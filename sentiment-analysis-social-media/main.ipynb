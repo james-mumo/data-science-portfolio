{
 "cells": [
  {
   "cell_type": "markdown",
   "id": "20962645-6d4a-4430-a13e-4cb8b98ca869",
   "metadata": {},
   "source": [
    "# Social Media Sentiment Analysis using Saf-Twitter Dataset:"
   ]
  },
  {
   "cell_type": "code",
   "execution_count": 6,
   "id": "5e76579c-ea59-46ab-8e36-4f537176baa5",
   "metadata": {},
   "outputs": [],
   "source": [
    "# Importing Neccesary Libs\n",
    "import pandas as pd\n",
    "import numpy as np\n"
   ]
  },
  {
   "cell_type": "markdown",
   "id": "25f7bef1-6ada-4d16-8693-a8ad517fe343",
   "metadata": {},
   "source": [
    "### load the data for upto 31st March"
   ]
  },
  {
   "cell_type": "code",
   "execution_count": 4,
   "id": "aaf15d39-315c-4f38-b612-0fe87bedf65b",
   "metadata": {},
   "outputs": [
    {
     "data": {
      "text/html": [
       "<div>\n",
       "<style scoped>\n",
       "    .dataframe tbody tr th:only-of-type {\n",
       "        vertical-align: middle;\n",
       "    }\n",
       "\n",
       "    .dataframe tbody tr th {\n",
       "        vertical-align: top;\n",
       "    }\n",
       "\n",
       "    .dataframe thead th {\n",
       "        text-align: right;\n",
       "    }\n",
       "</style>\n",
       "<table border=\"1\" class=\"dataframe\">\n",
       "  <thead>\n",
       "    <tr style=\"text-align: right;\">\n",
       "      <th></th>\n",
       "      <th>Tweet Id</th>\n",
       "      <th>Text</th>\n",
       "      <th>Name</th>\n",
       "      <th>Screen Name</th>\n",
       "      <th>UTC</th>\n",
       "      <th>Created At</th>\n",
       "      <th>Favorites</th>\n",
       "      <th>Retweets</th>\n",
       "      <th>Language</th>\n",
       "      <th>Client</th>\n",
       "      <th>Tweet Type</th>\n",
       "      <th>URLs</th>\n",
       "      <th>Hashtags</th>\n",
       "      <th>Mentions</th>\n",
       "      <th>Media Type</th>\n",
       "      <th>Media URLs</th>\n",
       "      <th>Unnamed: 16</th>\n",
       "      <th>Unnamed: 17</th>\n",
       "      <th>Unnamed: 18</th>\n",
       "    </tr>\n",
       "  </thead>\n",
       "  <tbody>\n",
       "    <tr>\n",
       "      <th>4156</th>\n",
       "      <td>1372032135259906059</td>\n",
       "      <td>Peter_kibiro</td>\n",
       "      <td>KibiroPeter</td>\n",
       "      <td>2021-03-17T03:49:07.000Z</td>\n",
       "      <td>Wed Mar 17 03:49:07 +0000 2021</td>\n",
       "      <td>271</td>\n",
       "      <td>264</td>\n",
       "      <td>911</td>\n",
       "      <td>366</td>\n",
       "      <td>0</td>\n",
       "      <td>Blessed to be stressed ||student||• @chelseaFC</td>\n",
       "      <td>Earth</td>\n",
       "      <td>NaN</td>\n",
       "      <td>FALSE</td>\n",
       "      <td>TRUE</td>\n",
       "      <td>NaN</td>\n",
       "      <td>NaN</td>\n",
       "      <td>NaN</td>\n",
       "      <td>NaN</td>\n",
       "    </tr>\n",
       "    <tr>\n",
       "      <th>4157</th>\n",
       "      <td>1372032135259906059</td>\n",
       "      <td>Peter_kibiro</td>\n",
       "      <td>KibiroPeter</td>\n",
       "      <td>2021-03-17T03:49:07.000Z</td>\n",
       "      <td>Wed Mar 17 03:49:07 +0000 2021</td>\n",
       "      <td>271</td>\n",
       "      <td>264</td>\n",
       "      <td>911</td>\n",
       "      <td>366</td>\n",
       "      <td>0</td>\n",
       "      <td>Blessed to be stressed ||student||• @chelseaFC</td>\n",
       "      <td>Earth</td>\n",
       "      <td>NaN</td>\n",
       "      <td>FALSE</td>\n",
       "      <td>TRUE</td>\n",
       "      <td>NaN</td>\n",
       "      <td>NaN</td>\n",
       "      <td>NaN</td>\n",
       "      <td>NaN</td>\n",
       "    </tr>\n",
       "    <tr>\n",
       "      <th>4158</th>\n",
       "      <td>1245493115844263937</td>\n",
       "      <td>Kelbac Omariba 𒊹︎︎︎</td>\n",
       "      <td>omariba_ke</td>\n",
       "      <td>2020-04-01T23:28:06.000Z</td>\n",
       "      <td>Wed Apr 01 23:28:06 +0000 2020</td>\n",
       "      <td>900</td>\n",
       "      <td>1020</td>\n",
       "      <td>6107</td>\n",
       "      <td>4724</td>\n",
       "      <td>0</td>\n",
       "      <td>beast</td>\n",
       "      <td>Thika, Kenya</td>\n",
       "      <td>https://instagram.com/omariba.k?igshid=smg5wy5...</td>\n",
       "      <td>FALSE</td>\n",
       "      <td>TRUE</td>\n",
       "      <td>NaN</td>\n",
       "      <td>NaN</td>\n",
       "      <td>NaN</td>\n",
       "      <td>NaN</td>\n",
       "    </tr>\n",
       "    <tr>\n",
       "      <th>4159</th>\n",
       "      <td>981797847216599040</td>\n",
       "      <td>Style by Ray</td>\n",
       "      <td>ImbayiK</td>\n",
       "      <td>2018-04-05T07:37:02.000Z</td>\n",
       "      <td>Thu Apr 05 07:37:02 +0000 2018</td>\n",
       "      <td>10570</td>\n",
       "      <td>991</td>\n",
       "      <td>2571</td>\n",
       "      <td>112704</td>\n",
       "      <td>4</td>\n",
       "      <td>Stylist || Alma &amp; Ava ❤️ || Rhumba ❤️ || IG @s...</td>\n",
       "      <td>Nairobi, Kenya</td>\n",
       "      <td>http://raising2.wordpress.com</td>\n",
       "      <td>FALSE</td>\n",
       "      <td>TRUE</td>\n",
       "      <td>NaN</td>\n",
       "      <td>NaN</td>\n",
       "      <td>NaN</td>\n",
       "      <td>NaN</td>\n",
       "    </tr>\n",
       "    <tr>\n",
       "      <th>4160</th>\n",
       "      <td>981797847216599040</td>\n",
       "      <td>Style by Ray</td>\n",
       "      <td>ImbayiK</td>\n",
       "      <td>2018-04-05T07:37:02.000Z</td>\n",
       "      <td>Thu Apr 05 07:37:02 +0000 2018</td>\n",
       "      <td>10570</td>\n",
       "      <td>991</td>\n",
       "      <td>2571</td>\n",
       "      <td>112704</td>\n",
       "      <td>4</td>\n",
       "      <td>Stylist || Alma &amp; Ava ❤️ || Rhumba ❤️ || IG @s...</td>\n",
       "      <td>Nairobi, Kenya</td>\n",
       "      <td>http://raising2.wordpress.com</td>\n",
       "      <td>FALSE</td>\n",
       "      <td>TRUE</td>\n",
       "      <td>NaN</td>\n",
       "      <td>NaN</td>\n",
       "      <td>NaN</td>\n",
       "      <td>NaN</td>\n",
       "    </tr>\n",
       "  </tbody>\n",
       "</table>\n",
       "</div>"
      ],
      "text/plain": [
       "                 Tweet Id                 Text         Name  \\\n",
       "4156  1372032135259906059         Peter_kibiro  KibiroPeter   \n",
       "4157  1372032135259906059         Peter_kibiro  KibiroPeter   \n",
       "4158  1245493115844263937  Kelbac Omariba 𒊹︎︎︎   omariba_ke   \n",
       "4159   981797847216599040         Style by Ray      ImbayiK   \n",
       "4160   981797847216599040         Style by Ray      ImbayiK   \n",
       "\n",
       "                   Screen Name                             UTC Created At  \\\n",
       "4156  2021-03-17T03:49:07.000Z  Wed Mar 17 03:49:07 +0000 2021        271   \n",
       "4157  2021-03-17T03:49:07.000Z  Wed Mar 17 03:49:07 +0000 2021        271   \n",
       "4158  2020-04-01T23:28:06.000Z  Wed Apr 01 23:28:06 +0000 2020        900   \n",
       "4159  2018-04-05T07:37:02.000Z  Thu Apr 05 07:37:02 +0000 2018      10570   \n",
       "4160  2018-04-05T07:37:02.000Z  Thu Apr 05 07:37:02 +0000 2018      10570   \n",
       "\n",
       "     Favorites Retweets Language Client  \\\n",
       "4156       264      911      366      0   \n",
       "4157       264      911      366      0   \n",
       "4158      1020     6107     4724      0   \n",
       "4159       991     2571   112704      4   \n",
       "4160       991     2571   112704      4   \n",
       "\n",
       "                                             Tweet Type            URLs  \\\n",
       "4156     Blessed to be stressed ||student||• @chelseaFC           Earth   \n",
       "4157     Blessed to be stressed ||student||• @chelseaFC           Earth   \n",
       "4158                                              beast    Thika, Kenya   \n",
       "4159  Stylist || Alma & Ava ❤️ || Rhumba ❤️ || IG @s...  Nairobi, Kenya   \n",
       "4160  Stylist || Alma & Ava ❤️ || Rhumba ❤️ || IG @s...  Nairobi, Kenya   \n",
       "\n",
       "                                               Hashtags Mentions Media Type  \\\n",
       "4156                                                NaN    FALSE       TRUE   \n",
       "4157                                                NaN    FALSE       TRUE   \n",
       "4158  https://instagram.com/omariba.k?igshid=smg5wy5...    FALSE       TRUE   \n",
       "4159                      http://raising2.wordpress.com    FALSE       TRUE   \n",
       "4160                      http://raising2.wordpress.com    FALSE       TRUE   \n",
       "\n",
       "     Media URLs Unnamed: 16 Unnamed: 17 Unnamed: 18  \n",
       "4156        NaN         NaN         NaN         NaN  \n",
       "4157        NaN         NaN         NaN         NaN  \n",
       "4158        NaN         NaN         NaN         NaN  \n",
       "4159        NaN         NaN         NaN         NaN  \n",
       "4160        NaN         NaN         NaN         NaN  "
      ]
     },
     "execution_count": 4,
     "metadata": {},
     "output_type": "execute_result"
    }
   ],
   "source": [
    "\n",
    "file = pd.read_csv('safaricom_tweets.csv')\n",
    "file.head()\n"
   ]
  },
  {
   "cell_type": "markdown",
   "id": "4dbd512b-0300-48f2-9e3b-ae0dfc86e283",
   "metadata": {},
   "source": [
    "## View Columns"
   ]
  },
  {
   "cell_type": "code",
   "execution_count": 5,
   "id": "6d515012-874b-40bb-8e87-edbfc2a16f8a",
   "metadata": {},
   "outputs": [
    {
     "data": {
      "text/plain": [
       "Index(['Tweet Id', 'Text', 'Name', 'Screen Name', 'UTC', 'Created At',\n",
       "       'Favorites', 'Retweets', 'Language', 'Client', 'Tweet Type', 'URLs',\n",
       "       'Hashtags', 'Mentions', 'Media Type', 'Media URLs', 'Unnamed: 16',\n",
       "       'Unnamed: 17', 'Unnamed: 18'],\n",
       "      dtype='object')"
      ]
     },
     "execution_count": 5,
     "metadata": {},
     "output_type": "execute_result"
    }
   ],
   "source": [
    "file.columns"
   ]
  },
  {
   "cell_type": "markdown",
   "id": "4a498eef-b56d-452e-b9be-09dddb891e3b",
   "metadata": {},
   "source": [
    "## View Rows and Columns"
   ]
  },
  {
   "cell_type": "code",
   "execution_count": 13,
   "id": "2b29d571-df08-4c4b-898b-d34c7da3142f",
   "metadata": {},
   "outputs": [
    {
     "name": "stdout",
     "output_type": "stream",
     "text": [
      "The Data has 4161 rows and 19 columns\n"
     ]
    }
   ],
   "source": [
    "file.shape\n",
    "\n",
    "print(f\"The Data has {file.shape[0]} rows and {file.shape[1]} columns\")"
   ]
  },
  {
   "cell_type": "markdown",
   "id": "1627e145-231a-45a5-b3bd-b00f7b485180",
   "metadata": {},
   "source": [
    "### Select the meaningfull columns and create a new df"
   ]
  },
  {
   "cell_type": "code",
   "execution_count": 16,
   "id": "5aec688d-5c95-48e2-84ce-ba0574586522",
   "metadata": {},
   "outputs": [
    {
     "data": {
      "text/html": [
       "<div>\n",
       "<style scoped>\n",
       "    .dataframe tbody tr th:only-of-type {\n",
       "        vertical-align: middle;\n",
       "    }\n",
       "\n",
       "    .dataframe tbody tr th {\n",
       "        vertical-align: top;\n",
       "    }\n",
       "\n",
       "    .dataframe thead th {\n",
       "        text-align: right;\n",
       "    }\n",
       "</style>\n",
       "<table border=\"1\" class=\"dataframe\">\n",
       "  <thead>\n",
       "    <tr style=\"text-align: right;\">\n",
       "      <th></th>\n",
       "      <th>Tweet Id</th>\n",
       "      <th>Text</th>\n",
       "      <th>Screen Name</th>\n",
       "    </tr>\n",
       "  </thead>\n",
       "  <tbody>\n",
       "    <tr>\n",
       "      <th>0</th>\n",
       "      <td>1377230154108395526</td>\n",
       "      <td>@Safaricom_Care I have done that many times an...</td>\n",
       "      <td>Itsa_Kumquat</td>\n",
       "    </tr>\n",
       "    <tr>\n",
       "      <th>1</th>\n",
       "      <td>1377229963661819914</td>\n",
       "      <td>RT @Elainesoya : @mwangideloh In Garissa behin...</td>\n",
       "      <td>LeilaaAbubakar</td>\n",
       "    </tr>\n",
       "    <tr>\n",
       "      <th>2</th>\n",
       "      <td>1377229925032280064</td>\n",
       "      <td>RT @KUcoolkid : Are you in online business and...</td>\n",
       "      <td>layawayuno</td>\n",
       "    </tr>\n",
       "    <tr>\n",
       "      <th>3</th>\n",
       "      <td>1377229854312169473</td>\n",
       "      <td>RT @Liberal_KE : Enjoy YouTube music with safa...</td>\n",
       "      <td>mutuahkiilu</td>\n",
       "    </tr>\n",
       "    <tr>\n",
       "      <th>4</th>\n",
       "      <td>1377229662917685251</td>\n",
       "      <td>RT @DARSIL254 : Which Paybill are you using if...</td>\n",
       "      <td>DARSIL254</td>\n",
       "    </tr>\n",
       "  </tbody>\n",
       "</table>\n",
       "</div>"
      ],
      "text/plain": [
       "              Tweet Id                                               Text  \\\n",
       "0  1377230154108395526  @Safaricom_Care I have done that many times an...   \n",
       "1  1377229963661819914  RT @Elainesoya : @mwangideloh In Garissa behin...   \n",
       "2  1377229925032280064  RT @KUcoolkid : Are you in online business and...   \n",
       "3  1377229854312169473  RT @Liberal_KE : Enjoy YouTube music with safa...   \n",
       "4  1377229662917685251  RT @DARSIL254 : Which Paybill are you using if...   \n",
       "\n",
       "      Screen Name  \n",
       "0    Itsa_Kumquat  \n",
       "1  LeilaaAbubakar  \n",
       "2      layawayuno  \n",
       "3     mutuahkiilu  \n",
       "4       DARSIL254  "
      ]
     },
     "execution_count": 16,
     "metadata": {},
     "output_type": "execute_result"
    }
   ],
   "source": [
    "df = file[[\"Tweet Id\", \"Text\", \"Screen Name\"]]\n",
    "df.head()\n"
   ]
  },
  {
   "cell_type": "code",
   "execution_count": null,
   "id": "d88e73a0-ce45-48ea-9026-a98a189623c5",
   "metadata": {},
   "outputs": [],
   "source": []
  },
  {
   "cell_type": "code",
   "execution_count": null,
   "id": "714a81ab-a3e9-4570-b70c-e0165b1f8c02",
   "metadata": {},
   "outputs": [],
   "source": []
  },
  {
   "cell_type": "code",
   "execution_count": null,
   "id": "48b606e8-f2b6-448d-a965-8eb23a7e483a",
   "metadata": {},
   "outputs": [],
   "source": []
  },
  {
   "cell_type": "code",
   "execution_count": null,
   "id": "349021b5-52be-49d6-bb68-27cb1f6559db",
   "metadata": {},
   "outputs": [],
   "source": []
  },
  {
   "cell_type": "code",
   "execution_count": null,
   "id": "04b0a1b0-db66-4abc-ae0f-688f619c4d03",
   "metadata": {},
   "outputs": [],
   "source": []
  }
 ],
 "metadata": {
  "kernelspec": {
   "display_name": "Python 3 (ipykernel)",
   "language": "python",
   "name": "python3"
  },
  "language_info": {
   "codemirror_mode": {
    "name": "ipython",
    "version": 3
   },
   "file_extension": ".py",
   "mimetype": "text/x-python",
   "name": "python",
   "nbconvert_exporter": "python",
   "pygments_lexer": "ipython3",
   "version": "3.11.4"
  }
 },
 "nbformat": 4,
 "nbformat_minor": 5
}
