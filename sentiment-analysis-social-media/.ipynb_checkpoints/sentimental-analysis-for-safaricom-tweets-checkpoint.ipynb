{
 "cells": [
  {
   "cell_type": "markdown",
   "id": "single-hardwood",
   "metadata": {
    "id": "dmAThhkb6NG4",
    "papermill": {
     "duration": 0.033683,
     "end_time": "2021-04-02T13:08:23.912199",
     "exception": false,
     "start_time": "2021-04-02T13:08:23.878516",
     "status": "completed"
    },
    "tags": []
   },
   "source": [
    "<h1> Importing pandas and other basic libraries</h1>"
   ]
  },
  {
   "cell_type": "code",
   "execution_count": 1,
   "id": "accepted-finger",
   "metadata": {
    "execution": {
     "iopub.execute_input": "2021-04-02T13:08:23.987230Z",
     "iopub.status.busy": "2021-04-02T13:08:23.985971Z",
     "iopub.status.idle": "2021-04-02T13:08:26.106230Z",
     "shell.execute_reply": "2021-04-02T13:08:26.105483Z"
    },
    "id": "ixx1pTYazRLU",
    "papermill": {
     "duration": 2.158324,
     "end_time": "2021-04-02T13:08:26.106445",
     "exception": false,
     "start_time": "2021-04-02T13:08:23.948121",
     "status": "completed"
    },
    "tags": []
   },
   "outputs": [],
   "source": [
    "import pandas as pd\n",
    "import numpy as np\n",
    "import re\n",
    "import string\n",
    "import nltk"
   ]
  },
  {
   "cell_type": "markdown",
   "id": "derived-wesley",
   "metadata": {
    "id": "C0Y1_zYV6LNf",
    "papermill": {
     "duration": 0.033676,
     "end_time": "2021-04-02T13:08:26.173521",
     "exception": false,
     "start_time": "2021-04-02T13:08:26.139845",
     "status": "completed"
    },
    "tags": []
   },
   "source": [
    "<h1>Get the dataset (Safaricom hashtag tweets upto 31st March)</h1>"
   ]
  },
  {
   "cell_type": "code",
   "execution_count": 2,
   "id": "expected-sitting",
   "metadata": {
    "execution": {
     "iopub.execute_input": "2021-04-02T13:08:26.251546Z",
     "iopub.status.busy": "2021-04-02T13:08:26.250860Z",
     "iopub.status.idle": "2021-04-02T13:08:26.386901Z",
     "shell.execute_reply": "2021-04-02T13:08:26.387480Z"
    },
    "id": "tGyVIqrBDf_c",
    "outputId": "6f3f912c-d858-490d-e161-fcca0a04feb5",
    "papermill": {
     "duration": 0.181368,
     "end_time": "2021-04-02T13:08:26.387666",
     "exception": false,
     "start_time": "2021-04-02T13:08:26.206298",
     "status": "completed"
    },
    "tags": []
   },
   "outputs": [
    {
     "data": {
      "text/html": [
       "<div>\n",
       "<style scoped>\n",
       "    .dataframe tbody tr th:only-of-type {\n",
       "        vertical-align: middle;\n",
       "    }\n",
       "\n",
       "    .dataframe tbody tr th {\n",
       "        vertical-align: top;\n",
       "    }\n",
       "\n",
       "    .dataframe thead th {\n",
       "        text-align: right;\n",
       "    }\n",
       "</style>\n",
       "<table border=\"1\" class=\"dataframe\">\n",
       "  <thead>\n",
       "    <tr style=\"text-align: right;\">\n",
       "      <th></th>\n",
       "      <th>Tweet Id</th>\n",
       "      <th>Text</th>\n",
       "      <th>Name</th>\n",
       "      <th>Screen Name</th>\n",
       "      <th>UTC</th>\n",
       "      <th>Created At</th>\n",
       "      <th>Favorites</th>\n",
       "      <th>Retweets</th>\n",
       "      <th>Language</th>\n",
       "      <th>Client</th>\n",
       "      <th>Tweet Type</th>\n",
       "      <th>URLs</th>\n",
       "      <th>Hashtags</th>\n",
       "      <th>Mentions</th>\n",
       "      <th>Media Type</th>\n",
       "      <th>Media URLs</th>\n",
       "      <th>Unnamed: 16</th>\n",
       "      <th>Unnamed: 17</th>\n",
       "      <th>Unnamed: 18</th>\n",
       "    </tr>\n",
       "  </thead>\n",
       "  <tbody>\n",
       "    <tr>\n",
       "      <th>0</th>\n",
       "      <td>1377230154108395526</td>\n",
       "      <td>@Safaricom_Care I have done that many times an...</td>\n",
       "      <td>Wa-Pots</td>\n",
       "      <td>Itsa_Kumquat</td>\n",
       "      <td>2021-03-31T12:03:51.000Z</td>\n",
       "      <td>Wed Mar 31 12:03:51 +0000 2021</td>\n",
       "      <td>0</td>\n",
       "      <td>0</td>\n",
       "      <td>en</td>\n",
       "      <td>&lt;a href=\"http://twitter.com/download/android\" ...</td>\n",
       "      <td>Reply</td>\n",
       "      <td>NaN</td>\n",
       "      <td>0</td>\n",
       "      <td>1</td>\n",
       "      <td>NaN</td>\n",
       "      <td>NaN</td>\n",
       "      <td>NaN</td>\n",
       "      <td>NaN</td>\n",
       "      <td>NaN</td>\n",
       "    </tr>\n",
       "    <tr>\n",
       "      <th>1</th>\n",
       "      <td>1377229963661819914</td>\n",
       "      <td>RT @Elainesoya : @mwangideloh In Garissa behin...</td>\n",
       "      <td>Leilati</td>\n",
       "      <td>LeilaaAbubakar</td>\n",
       "      <td>2021-03-31T12:03:05.000Z</td>\n",
       "      <td>Wed Mar 31 12:03:05 +0000 2021</td>\n",
       "      <td>0</td>\n",
       "      <td>0</td>\n",
       "      <td>en</td>\n",
       "      <td>&lt;a href=\"http://twitter.com/download/android\" ...</td>\n",
       "      <td>Retweet</td>\n",
       "      <td>NaN</td>\n",
       "      <td>0</td>\n",
       "      <td>1</td>\n",
       "      <td>NaN</td>\n",
       "      <td>NaN</td>\n",
       "      <td>NaN</td>\n",
       "      <td>NaN</td>\n",
       "      <td>NaN</td>\n",
       "    </tr>\n",
       "    <tr>\n",
       "      <th>2</th>\n",
       "      <td>1377229925032280064</td>\n",
       "      <td>RT @KUcoolkid : Are you in online business and...</td>\n",
       "      <td>iamlayaway</td>\n",
       "      <td>layawayuno</td>\n",
       "      <td>2021-03-31T12:02:56.000Z</td>\n",
       "      <td>Wed Mar 31 12:02:56 +0000 2021</td>\n",
       "      <td>0</td>\n",
       "      <td>0</td>\n",
       "      <td>en</td>\n",
       "      <td>&lt;a href=\"http://twitter.com/download/android\" ...</td>\n",
       "      <td>Retweet</td>\n",
       "      <td>NaN</td>\n",
       "      <td>1</td>\n",
       "      <td>0</td>\n",
       "      <td>photo</td>\n",
       "      <td>https://pbs.twimg.com/media/ExzlwbuWUAEXRcz.jpg</td>\n",
       "      <td>NaN</td>\n",
       "      <td>NaN</td>\n",
       "      <td>NaN</td>\n",
       "    </tr>\n",
       "    <tr>\n",
       "      <th>3</th>\n",
       "      <td>1377229854312169473</td>\n",
       "      <td>RT @Liberal_KE : Enjoy YouTube music with safa...</td>\n",
       "      <td>Kiilu Kutoka Kitui 👽</td>\n",
       "      <td>mutuahkiilu</td>\n",
       "      <td>2021-03-31T12:02:39.000Z</td>\n",
       "      <td>Wed Mar 31 12:02:39 +0000 2021</td>\n",
       "      <td>0</td>\n",
       "      <td>0</td>\n",
       "      <td>en</td>\n",
       "      <td>&lt;a href=\"http://twitter.com/download/android\" ...</td>\n",
       "      <td>Retweet</td>\n",
       "      <td>NaN</td>\n",
       "      <td>1</td>\n",
       "      <td>0</td>\n",
       "      <td>photo</td>\n",
       "      <td>https://pbs.twimg.com/media/Exzm8SAWEAMe0qF.jpg</td>\n",
       "      <td>NaN</td>\n",
       "      <td>NaN</td>\n",
       "      <td>NaN</td>\n",
       "    </tr>\n",
       "    <tr>\n",
       "      <th>4</th>\n",
       "      <td>1377229662917685251</td>\n",
       "      <td>RT @DARSIL254 : Which Paybill are you using if...</td>\n",
       "      <td>Boychild UNDER Siege😠</td>\n",
       "      <td>DARSIL254</td>\n",
       "      <td>2021-03-31T12:01:53.000Z</td>\n",
       "      <td>Wed Mar 31 12:01:53 +0000 2021</td>\n",
       "      <td>0</td>\n",
       "      <td>0</td>\n",
       "      <td>en</td>\n",
       "      <td>&lt;a href=\"http://twitter.com/download/android\" ...</td>\n",
       "      <td>Retweet</td>\n",
       "      <td>NaN</td>\n",
       "      <td>1</td>\n",
       "      <td>0</td>\n",
       "      <td>photo</td>\n",
       "      <td>https://pbs.twimg.com/media/ExziJdoWYAY-0tA.jpg</td>\n",
       "      <td>NaN</td>\n",
       "      <td>NaN</td>\n",
       "      <td>NaN</td>\n",
       "    </tr>\n",
       "  </tbody>\n",
       "</table>\n",
       "</div>"
      ],
      "text/plain": [
       "              Tweet Id                                               Text  \\\n",
       "0  1377230154108395526  @Safaricom_Care I have done that many times an...   \n",
       "1  1377229963661819914  RT @Elainesoya : @mwangideloh In Garissa behin...   \n",
       "2  1377229925032280064  RT @KUcoolkid : Are you in online business and...   \n",
       "3  1377229854312169473  RT @Liberal_KE : Enjoy YouTube music with safa...   \n",
       "4  1377229662917685251  RT @DARSIL254 : Which Paybill are you using if...   \n",
       "\n",
       "                    Name     Screen Name                       UTC  \\\n",
       "0                Wa-Pots    Itsa_Kumquat  2021-03-31T12:03:51.000Z   \n",
       "1                Leilati  LeilaaAbubakar  2021-03-31T12:03:05.000Z   \n",
       "2             iamlayaway      layawayuno  2021-03-31T12:02:56.000Z   \n",
       "3   Kiilu Kutoka Kitui 👽     mutuahkiilu  2021-03-31T12:02:39.000Z   \n",
       "4  Boychild UNDER Siege😠       DARSIL254  2021-03-31T12:01:53.000Z   \n",
       "\n",
       "                       Created At Favorites Retweets Language  \\\n",
       "0  Wed Mar 31 12:03:51 +0000 2021         0        0       en   \n",
       "1  Wed Mar 31 12:03:05 +0000 2021         0        0       en   \n",
       "2  Wed Mar 31 12:02:56 +0000 2021         0        0       en   \n",
       "3  Wed Mar 31 12:02:39 +0000 2021         0        0       en   \n",
       "4  Wed Mar 31 12:01:53 +0000 2021         0        0       en   \n",
       "\n",
       "                                              Client Tweet Type URLs Hashtags  \\\n",
       "0  <a href=\"http://twitter.com/download/android\" ...      Reply  NaN        0   \n",
       "1  <a href=\"http://twitter.com/download/android\" ...    Retweet  NaN        0   \n",
       "2  <a href=\"http://twitter.com/download/android\" ...    Retweet  NaN        1   \n",
       "3  <a href=\"http://twitter.com/download/android\" ...    Retweet  NaN        1   \n",
       "4  <a href=\"http://twitter.com/download/android\" ...    Retweet  NaN        1   \n",
       "\n",
       "  Mentions Media Type                                       Media URLs  \\\n",
       "0        1        NaN                                              NaN   \n",
       "1        1        NaN                                              NaN   \n",
       "2        0      photo  https://pbs.twimg.com/media/ExzlwbuWUAEXRcz.jpg   \n",
       "3        0      photo  https://pbs.twimg.com/media/Exzm8SAWEAMe0qF.jpg   \n",
       "4        0      photo  https://pbs.twimg.com/media/ExziJdoWYAY-0tA.jpg   \n",
       "\n",
       "  Unnamed: 16 Unnamed: 17 Unnamed: 18  \n",
       "0         NaN         NaN         NaN  \n",
       "1         NaN         NaN         NaN  \n",
       "2         NaN         NaN         NaN  \n",
       "3         NaN         NaN         NaN  \n",
       "4         NaN         NaN         NaN  "
      ]
     },
     "execution_count": 2,
     "metadata": {},
     "output_type": "execute_result"
    }
   ],
   "source": [
    "file = pd.read_csv(\"../input/hashtag-safaricom-tweets/safaricom_tweets.csv\")\n",
    "file.head()"
   ]
  },
  {
   "cell_type": "markdown",
   "id": "becoming-borough",
   "metadata": {
    "id": "_HRvP7ft6sb0",
    "papermill": {
     "duration": 0.03432,
     "end_time": "2021-04-02T13:08:26.455952",
     "exception": false,
     "start_time": "2021-04-02T13:08:26.421632",
     "status": "completed"
    },
    "tags": []
   },
   "source": [
    "<h1>Data overview</h1>"
   ]
  },
  {
   "cell_type": "code",
   "execution_count": 3,
   "id": "equal-plaintiff",
   "metadata": {
    "execution": {
     "iopub.execute_input": "2021-04-02T13:08:26.527912Z",
     "iopub.status.busy": "2021-04-02T13:08:26.526799Z",
     "iopub.status.idle": "2021-04-02T13:08:26.534429Z",
     "shell.execute_reply": "2021-04-02T13:08:26.533697Z"
    },
    "id": "e6kezdLdJsUI",
    "outputId": "659031e7-ce9f-4580-cbab-2c10c9870c77",
    "papermill": {
     "duration": 0.044579,
     "end_time": "2021-04-02T13:08:26.534582",
     "exception": false,
     "start_time": "2021-04-02T13:08:26.490003",
     "status": "completed"
    },
    "tags": []
   },
   "outputs": [
    {
     "data": {
      "text/plain": [
       "Index(['Tweet Id', 'Text', 'Name', 'Screen Name', 'UTC', 'Created At',\n",
       "       'Favorites', 'Retweets', 'Language', 'Client', 'Tweet Type', 'URLs',\n",
       "       'Hashtags', 'Mentions', 'Media Type', 'Media URLs', 'Unnamed: 16',\n",
       "       'Unnamed: 17', 'Unnamed: 18'],\n",
       "      dtype='object')"
      ]
     },
     "execution_count": 3,
     "metadata": {},
     "output_type": "execute_result"
    }
   ],
   "source": [
    "file.columns"
   ]
  },
  {
   "cell_type": "markdown",
   "id": "attractive-possible",
   "metadata": {
    "id": "xKz7lV-J63tk",
    "papermill": {
     "duration": 0.033348,
     "end_time": "2021-04-02T13:08:26.602174",
     "exception": false,
     "start_time": "2021-04-02T13:08:26.568826",
     "status": "completed"
    },
    "tags": []
   },
   "source": [
    "<h1>Rows and Columns count</h1>"
   ]
  },
  {
   "cell_type": "code",
   "execution_count": 4,
   "id": "continued-effort",
   "metadata": {
    "execution": {
     "iopub.execute_input": "2021-04-02T13:08:26.676416Z",
     "iopub.status.busy": "2021-04-02T13:08:26.675738Z",
     "iopub.status.idle": "2021-04-02T13:08:26.680054Z",
     "shell.execute_reply": "2021-04-02T13:08:26.679441Z"
    },
    "id": "B32RFSOpJ8vK",
    "outputId": "162a377f-41d5-43dc-f4e4-3a2b0c23cd14",
    "papermill": {
     "duration": 0.043983,
     "end_time": "2021-04-02T13:08:26.680210",
     "exception": false,
     "start_time": "2021-04-02T13:08:26.636227",
     "status": "completed"
    },
    "tags": []
   },
   "outputs": [
    {
     "data": {
      "text/plain": [
       "(4161, 19)"
      ]
     },
     "execution_count": 4,
     "metadata": {},
     "output_type": "execute_result"
    }
   ],
   "source": [
    "file.shape"
   ]
  },
  {
   "cell_type": "code",
   "execution_count": 5,
   "id": "removed-teach",
   "metadata": {
    "execution": {
     "iopub.execute_input": "2021-04-02T13:08:26.764063Z",
     "iopub.status.busy": "2021-04-02T13:08:26.763042Z",
     "iopub.status.idle": "2021-04-02T13:08:26.768934Z",
     "shell.execute_reply": "2021-04-02T13:08:26.768331Z"
    },
    "id": "vH1FWkOoKRz5",
    "outputId": "71551fa5-8b94-4edf-cf4f-75d60b4e9ea0",
    "papermill": {
     "duration": 0.053933,
     "end_time": "2021-04-02T13:08:26.769087",
     "exception": false,
     "start_time": "2021-04-02T13:08:26.715154",
     "status": "completed"
    },
    "tags": []
   },
   "outputs": [
    {
     "data": {
      "text/html": [
       "<div>\n",
       "<style scoped>\n",
       "    .dataframe tbody tr th:only-of-type {\n",
       "        vertical-align: middle;\n",
       "    }\n",
       "\n",
       "    .dataframe tbody tr th {\n",
       "        vertical-align: top;\n",
       "    }\n",
       "\n",
       "    .dataframe thead th {\n",
       "        text-align: right;\n",
       "    }\n",
       "</style>\n",
       "<table border=\"1\" class=\"dataframe\">\n",
       "  <thead>\n",
       "    <tr style=\"text-align: right;\">\n",
       "      <th></th>\n",
       "      <th>Tweet Id</th>\n",
       "      <th>Screen Name</th>\n",
       "      <th>Text</th>\n",
       "    </tr>\n",
       "  </thead>\n",
       "  <tbody>\n",
       "    <tr>\n",
       "      <th>0</th>\n",
       "      <td>1377230154108395526</td>\n",
       "      <td>Itsa_Kumquat</td>\n",
       "      <td>@Safaricom_Care I have done that many times an...</td>\n",
       "    </tr>\n",
       "    <tr>\n",
       "      <th>1</th>\n",
       "      <td>1377229963661819914</td>\n",
       "      <td>LeilaaAbubakar</td>\n",
       "      <td>RT @Elainesoya : @mwangideloh In Garissa behin...</td>\n",
       "    </tr>\n",
       "    <tr>\n",
       "      <th>2</th>\n",
       "      <td>1377229925032280064</td>\n",
       "      <td>layawayuno</td>\n",
       "      <td>RT @KUcoolkid : Are you in online business and...</td>\n",
       "    </tr>\n",
       "    <tr>\n",
       "      <th>3</th>\n",
       "      <td>1377229854312169473</td>\n",
       "      <td>mutuahkiilu</td>\n",
       "      <td>RT @Liberal_KE : Enjoy YouTube music with safa...</td>\n",
       "    </tr>\n",
       "    <tr>\n",
       "      <th>4</th>\n",
       "      <td>1377229662917685251</td>\n",
       "      <td>DARSIL254</td>\n",
       "      <td>RT @DARSIL254 : Which Paybill are you using if...</td>\n",
       "    </tr>\n",
       "  </tbody>\n",
       "</table>\n",
       "</div>"
      ],
      "text/plain": [
       "              Tweet Id     Screen Name  \\\n",
       "0  1377230154108395526    Itsa_Kumquat   \n",
       "1  1377229963661819914  LeilaaAbubakar   \n",
       "2  1377229925032280064      layawayuno   \n",
       "3  1377229854312169473     mutuahkiilu   \n",
       "4  1377229662917685251       DARSIL254   \n",
       "\n",
       "                                                Text  \n",
       "0  @Safaricom_Care I have done that many times an...  \n",
       "1  RT @Elainesoya : @mwangideloh In Garissa behin...  \n",
       "2  RT @KUcoolkid : Are you in online business and...  \n",
       "3  RT @Liberal_KE : Enjoy YouTube music with safa...  \n",
       "4  RT @DARSIL254 : Which Paybill are you using if...  "
      ]
     },
     "execution_count": 5,
     "metadata": {},
     "output_type": "execute_result"
    }
   ],
   "source": [
    "tweets_df = file[[\"Tweet Id\", \"Screen Name\", \"Text\"]]\n",
    "tweets_df.head()"
   ]
  },
  {
   "cell_type": "code",
   "execution_count": 6,
   "id": "alpha-contact",
   "metadata": {
    "execution": {
     "iopub.execute_input": "2021-04-02T13:08:26.845110Z",
     "iopub.status.busy": "2021-04-02T13:08:26.844226Z",
     "iopub.status.idle": "2021-04-02T13:08:26.850082Z",
     "shell.execute_reply": "2021-04-02T13:08:26.849421Z"
    },
    "id": "8IoxkfMiLZrC",
    "outputId": "b9422675-4a39-47d1-a723-65b88ea5499b",
    "papermill": {
     "duration": 0.046477,
     "end_time": "2021-04-02T13:08:26.850250",
     "exception": false,
     "start_time": "2021-04-02T13:08:26.803773",
     "status": "completed"
    },
    "tags": []
   },
   "outputs": [
    {
     "data": {
      "text/plain": [
       "(4161, 3)"
      ]
     },
     "execution_count": 6,
     "metadata": {},
     "output_type": "execute_result"
    }
   ],
   "source": [
    "tweets_df.shape"
   ]
  },
  {
   "cell_type": "markdown",
   "id": "electric-height",
   "metadata": {
    "id": "2zywaJDD7DUy",
    "papermill": {
     "duration": 0.034794,
     "end_time": "2021-04-02T13:08:26.920247",
     "exception": false,
     "start_time": "2021-04-02T13:08:26.885453",
     "status": "completed"
    },
    "tags": []
   },
   "source": [
    "<h1>Data cleaning and preprocessing</h1>\n",
    "<ul>\n",
    "<li>Tokenization</li>\n",
    "<li>Lemmertization</li>\n",
    "<li>Remove punctuation tags</li>\n",
    "<li>Remove emojis</li>\n",
    "<li>Strip numerical values</li>\n",
    "<li>Remove stop-words</li>\n",
    "</ul>"
   ]
  },
  {
   "cell_type": "code",
   "execution_count": 7,
   "id": "discrete-auction",
   "metadata": {
    "execution": {
     "iopub.execute_input": "2021-04-02T13:08:26.996170Z",
     "iopub.status.busy": "2021-04-02T13:08:26.995388Z",
     "iopub.status.idle": "2021-04-02T13:08:26.999772Z",
     "shell.execute_reply": "2021-04-02T13:08:26.999159Z"
    },
    "id": "Y1-P-bL-XfG4",
    "papermill": {
     "duration": 0.044706,
     "end_time": "2021-04-02T13:08:26.999932",
     "exception": false,
     "start_time": "2021-04-02T13:08:26.955226",
     "status": "completed"
    },
    "tags": []
   },
   "outputs": [],
   "source": [
    "from nltk.tokenize import word_tokenize"
   ]
  },
  {
   "cell_type": "code",
   "execution_count": 8,
   "id": "illegal-attendance",
   "metadata": {
    "execution": {
     "iopub.execute_input": "2021-04-02T13:08:27.079032Z",
     "iopub.status.busy": "2021-04-02T13:08:27.078291Z",
     "iopub.status.idle": "2021-04-02T13:08:27.310608Z",
     "shell.execute_reply": "2021-04-02T13:08:27.310008Z"
    },
    "id": "ysGlj9k6aAhV",
    "outputId": "7cef98ee-01e8-455c-d181-549cbc81730f",
    "papermill": {
     "duration": 0.27543,
     "end_time": "2021-04-02T13:08:27.310790",
     "exception": false,
     "start_time": "2021-04-02T13:08:27.035360",
     "status": "completed"
    },
    "tags": []
   },
   "outputs": [
    {
     "name": "stdout",
     "output_type": "stream",
     "text": [
      "[nltk_data] Downloading package punkt to /usr/share/nltk_data...\n",
      "[nltk_data]   Package punkt is already up-to-date!\n"
     ]
    },
    {
     "data": {
      "text/plain": [
       "True"
      ]
     },
     "execution_count": 8,
     "metadata": {},
     "output_type": "execute_result"
    }
   ],
   "source": [
    "nltk.download('punkt')"
   ]
  },
  {
   "cell_type": "code",
   "execution_count": 9,
   "id": "welcome-replication",
   "metadata": {
    "execution": {
     "iopub.execute_input": "2021-04-02T13:08:27.410039Z",
     "iopub.status.busy": "2021-04-02T13:08:27.409236Z",
     "iopub.status.idle": "2021-04-02T13:08:36.341149Z",
     "shell.execute_reply": "2021-04-02T13:08:36.340094Z"
    },
    "id": "JaVy4NuDwe_W",
    "outputId": "feb9b3ab-2163-4a7f-b231-af3ff5c82c2d",
    "papermill": {
     "duration": 8.992437,
     "end_time": "2021-04-02T13:08:36.341318",
     "exception": false,
     "start_time": "2021-04-02T13:08:27.348881",
     "status": "completed"
    },
    "tags": []
   },
   "outputs": [
    {
     "name": "stdout",
     "output_type": "stream",
     "text": [
      "Requirement already satisfied: emoji in /opt/conda/lib/python3.7/site-packages (1.2.0)\n"
     ]
    }
   ],
   "source": [
    "!pip install emoji"
   ]
  },
  {
   "cell_type": "code",
   "execution_count": 10,
   "id": "compliant-cleaner",
   "metadata": {
    "execution": {
     "iopub.execute_input": "2021-04-02T13:08:36.426056Z",
     "iopub.status.busy": "2021-04-02T13:08:36.425186Z",
     "iopub.status.idle": "2021-04-02T13:08:39.703213Z",
     "shell.execute_reply": "2021-04-02T13:08:39.702422Z"
    },
    "id": "Gfz_X0TfY9qV",
    "outputId": "6f362f7f-0623-4c94-aeb8-53b41759fe38",
    "papermill": {
     "duration": 3.324331,
     "end_time": "2021-04-02T13:08:39.703379",
     "exception": false,
     "start_time": "2021-04-02T13:08:36.379048",
     "status": "completed"
    },
    "tags": []
   },
   "outputs": [
    {
     "name": "stderr",
     "output_type": "stream",
     "text": [
      "/opt/conda/lib/python3.7/site-packages/ipykernel_launcher.py:14: SettingWithCopyWarning: \n",
      "A value is trying to be set on a copy of a slice from a DataFrame.\n",
      "Try using .loc[row_indexer,col_indexer] = value instead\n",
      "\n",
      "See the caveats in the documentation: https://pandas.pydata.org/pandas-docs/stable/user_guide/indexing.html#returning-a-view-versus-a-copy\n",
      "  \n",
      "/opt/conda/lib/python3.7/site-packages/ipykernel_launcher.py:18: SettingWithCopyWarning: \n",
      "A value is trying to be set on a copy of a slice from a DataFrame.\n",
      "Try using .loc[row_indexer,col_indexer] = value instead\n",
      "\n",
      "See the caveats in the documentation: https://pandas.pydata.org/pandas-docs/stable/user_guide/indexing.html#returning-a-view-versus-a-copy\n"
     ]
    },
    {
     "name": "stdout",
     "output_type": "stream",
     "text": [
      "[nltk_data] Downloading package stopwords to /usr/share/nltk_data...\n",
      "[nltk_data]   Package stopwords is already up-to-date!\n"
     ]
    },
    {
     "name": "stderr",
     "output_type": "stream",
     "text": [
      "/opt/conda/lib/python3.7/site-packages/ipykernel_launcher.py:19: SettingWithCopyWarning: \n",
      "A value is trying to be set on a copy of a slice from a DataFrame.\n",
      "Try using .loc[row_indexer,col_indexer] = value instead\n",
      "\n",
      "See the caveats in the documentation: https://pandas.pydata.org/pandas-docs/stable/user_guide/indexing.html#returning-a-view-versus-a-copy\n"
     ]
    },
    {
     "data": {
      "text/html": [
       "<div>\n",
       "<style scoped>\n",
       "    .dataframe tbody tr th:only-of-type {\n",
       "        vertical-align: middle;\n",
       "    }\n",
       "\n",
       "    .dataframe tbody tr th {\n",
       "        vertical-align: top;\n",
       "    }\n",
       "\n",
       "    .dataframe thead th {\n",
       "        text-align: right;\n",
       "    }\n",
       "</style>\n",
       "<table border=\"1\" class=\"dataframe\">\n",
       "  <thead>\n",
       "    <tr style=\"text-align: right;\">\n",
       "      <th></th>\n",
       "      <th>Tweet Id</th>\n",
       "      <th>Screen Name</th>\n",
       "      <th>Text</th>\n",
       "      <th>Tweets</th>\n",
       "      <th>stop_words</th>\n",
       "    </tr>\n",
       "  </thead>\n",
       "  <tbody>\n",
       "    <tr>\n",
       "      <th>0</th>\n",
       "      <td>1377230154108395526</td>\n",
       "      <td>Itsa_Kumquat</td>\n",
       "      <td>@Safaricom_Care I have done that many times an...</td>\n",
       "      <td>[safaricom_care, i, done, many, times, still, ...</td>\n",
       "      <td>[have, that, and, i, the]</td>\n",
       "    </tr>\n",
       "    <tr>\n",
       "      <th>1</th>\n",
       "      <td>1377229963661819914</td>\n",
       "      <td>LeilaaAbubakar</td>\n",
       "      <td>RT @Elainesoya : @mwangideloh In Garissa behin...</td>\n",
       "      <td>[rt, elainesoya, mwangideloh, in, garissa, beh...</td>\n",
       "      <td>[]</td>\n",
       "    </tr>\n",
       "    <tr>\n",
       "      <th>2</th>\n",
       "      <td>1377229925032280064</td>\n",
       "      <td>layawayuno</td>\n",
       "      <td>RT @KUcoolkid : Are you in online business and...</td>\n",
       "      <td>[rt, kucoolkid, are, online, business, keep, r...</td>\n",
       "      <td>[you, in, and, you, out, of, no, more, and]</td>\n",
       "    </tr>\n",
       "    <tr>\n",
       "      <th>3</th>\n",
       "      <td>1377229854312169473</td>\n",
       "      <td>mutuahkiilu</td>\n",
       "      <td>RT @Liberal_KE : Enjoy YouTube music with safa...</td>\n",
       "      <td>[rt, liberal_ke, enjoy, youtube, music, safari...</td>\n",
       "      <td>[with, after]</td>\n",
       "    </tr>\n",
       "    <tr>\n",
       "      <th>4</th>\n",
       "      <td>1377229662917685251</td>\n",
       "      <td>DARSIL254</td>\n",
       "      <td>RT @DARSIL254 : Which Paybill are you using if...</td>\n",
       "      <td>[rt, darsil, which, paybill, using, buy, safar...</td>\n",
       "      <td>[are, you, if, not, to]</td>\n",
       "    </tr>\n",
       "    <tr>\n",
       "      <th>5</th>\n",
       "      <td>1377229576452124675</td>\n",
       "      <td>JohnNakholi</td>\n",
       "      <td>RT @ReubenKigame : Before I am told to be grat...</td>\n",
       "      <td>[rt, reubenkigame, before, i, told, grateful, ...</td>\n",
       "      <td>[am, to, be, about, and, from, and, other, the...</td>\n",
       "    </tr>\n",
       "    <tr>\n",
       "      <th>6</th>\n",
       "      <td>1377229563986653191</td>\n",
       "      <td>Liberal_KE</td>\n",
       "      <td>RT @KUcoolkid : Usi reverse call tena, you can...</td>\n",
       "      <td>[rt, kucoolkid, usi, reverse, call, tena, buy,...</td>\n",
       "      <td>[you, can, now, you, have, in, your, you, can]</td>\n",
       "    </tr>\n",
       "    <tr>\n",
       "      <th>7</th>\n",
       "      <td>1377229517903835140</td>\n",
       "      <td>Liberal_KE</td>\n",
       "      <td>Enjoy YouTube music with safaricom YouTube bun...</td>\n",
       "      <td>[enjoy, youtube, music, safaricom, youtube, bu...</td>\n",
       "      <td>[with, after]</td>\n",
       "    </tr>\n",
       "    <tr>\n",
       "      <th>8</th>\n",
       "      <td>1377229516926550020</td>\n",
       "      <td>MrRetwetts</td>\n",
       "      <td>#UnlockOurkenya\\n\\n#Safaricom Plc kindly bring...</td>\n",
       "      <td>[unlockourkenya, safaricom, plc, kindly, bring...</td>\n",
       "      <td>[the, for, and, below, in, these]</td>\n",
       "    </tr>\n",
       "    <tr>\n",
       "      <th>9</th>\n",
       "      <td>1377229513868906497</td>\n",
       "      <td>DARSIL254</td>\n",
       "      <td>RT @KUcoolkid : Are you in online business and...</td>\n",
       "      <td>[rt, kucoolkid, are, online, business, keep, r...</td>\n",
       "      <td>[you, in, and, you, out, of, no, more, and]</td>\n",
       "    </tr>\n",
       "  </tbody>\n",
       "</table>\n",
       "</div>"
      ],
      "text/plain": [
       "              Tweet Id     Screen Name  \\\n",
       "0  1377230154108395526    Itsa_Kumquat   \n",
       "1  1377229963661819914  LeilaaAbubakar   \n",
       "2  1377229925032280064      layawayuno   \n",
       "3  1377229854312169473     mutuahkiilu   \n",
       "4  1377229662917685251       DARSIL254   \n",
       "5  1377229576452124675     JohnNakholi   \n",
       "6  1377229563986653191      Liberal_KE   \n",
       "7  1377229517903835140      Liberal_KE   \n",
       "8  1377229516926550020      MrRetwetts   \n",
       "9  1377229513868906497       DARSIL254   \n",
       "\n",
       "                                                Text  \\\n",
       "0  @Safaricom_Care I have done that many times an...   \n",
       "1  RT @Elainesoya : @mwangideloh In Garissa behin...   \n",
       "2  RT @KUcoolkid : Are you in online business and...   \n",
       "3  RT @Liberal_KE : Enjoy YouTube music with safa...   \n",
       "4  RT @DARSIL254 : Which Paybill are you using if...   \n",
       "5  RT @ReubenKigame : Before I am told to be grat...   \n",
       "6  RT @KUcoolkid : Usi reverse call tena, you can...   \n",
       "7  Enjoy YouTube music with safaricom YouTube bun...   \n",
       "8  #UnlockOurkenya\\n\\n#Safaricom Plc kindly bring...   \n",
       "9  RT @KUcoolkid : Are you in online business and...   \n",
       "\n",
       "                                              Tweets  \\\n",
       "0  [safaricom_care, i, done, many, times, still, ...   \n",
       "1  [rt, elainesoya, mwangideloh, in, garissa, beh...   \n",
       "2  [rt, kucoolkid, are, online, business, keep, r...   \n",
       "3  [rt, liberal_ke, enjoy, youtube, music, safari...   \n",
       "4  [rt, darsil, which, paybill, using, buy, safar...   \n",
       "5  [rt, reubenkigame, before, i, told, grateful, ...   \n",
       "6  [rt, kucoolkid, usi, reverse, call, tena, buy,...   \n",
       "7  [enjoy, youtube, music, safaricom, youtube, bu...   \n",
       "8  [unlockourkenya, safaricom, plc, kindly, bring...   \n",
       "9  [rt, kucoolkid, are, online, business, keep, r...   \n",
       "\n",
       "                                          stop_words  \n",
       "0                          [have, that, and, i, the]  \n",
       "1                                                 []  \n",
       "2        [you, in, and, you, out, of, no, more, and]  \n",
       "3                                      [with, after]  \n",
       "4                            [are, you, if, not, to]  \n",
       "5  [am, to, be, about, and, from, and, other, the...  \n",
       "6     [you, can, now, you, have, in, your, you, can]  \n",
       "7                                      [with, after]  \n",
       "8                  [the, for, and, below, in, these]  \n",
       "9        [you, in, and, you, out, of, no, more, and]  "
      ]
     },
     "execution_count": 10,
     "metadata": {},
     "output_type": "execute_result"
    }
   ],
   "source": [
    "import emoji\n",
    "def tokenize_tweets(text):\n",
    "  #remove emojis\n",
    "  text = emoji.demojize(text)\n",
    "  #remove urls\n",
    "  text = re.sub('http[s]?://\\S+', '', text)\n",
    "  #remove punctuations\n",
    "  text = re.sub(r'[^\\w\\s]','',text)\n",
    "  #strip numbers\n",
    "  text = re.sub('[0-9]+', '', text)\n",
    "  text = word_tokenize(text)\n",
    "  \n",
    "  return text\n",
    "tweets_df[\"Tweets\"] = tweets_df[\"Text\"].apply(lambda x: tokenize_tweets(x))\n",
    "\n",
    "from nltk.corpus import stopwords\n",
    "nltk.download('stopwords')\n",
    "stop = stopwords.words(\"english\")\n",
    "\n",
    "tweets_df[\"stop_words\"] = tweets_df[\"Tweets\"].apply(lambda x: [w for w in x if w in stop])\n",
    "tweets_df[\"Tweets\"] = tweets_df[\"Tweets\"].apply(lambda x: [w.lower() for w in x if w not in stop])\n",
    "\n",
    "tweets_df.head(10)"
   ]
  },
  {
   "cell_type": "code",
   "execution_count": 11,
   "id": "olive-patrol",
   "metadata": {
    "execution": {
     "iopub.execute_input": "2021-04-02T13:08:39.801624Z",
     "iopub.status.busy": "2021-04-02T13:08:39.800578Z",
     "iopub.status.idle": "2021-04-02T13:08:39.805985Z",
     "shell.execute_reply": "2021-04-02T13:08:39.805428Z"
    },
    "id": "lYskUr6qaHJK",
    "outputId": "fde8b1a2-ee88-4ee6-f77e-e82299fa6793",
    "papermill": {
     "duration": 0.063555,
     "end_time": "2021-04-02T13:08:39.806148",
     "exception": false,
     "start_time": "2021-04-02T13:08:39.742593",
     "status": "completed"
    },
    "tags": []
   },
   "outputs": [
    {
     "data": {
      "text/html": [
       "<div>\n",
       "<style scoped>\n",
       "    .dataframe tbody tr th:only-of-type {\n",
       "        vertical-align: middle;\n",
       "    }\n",
       "\n",
       "    .dataframe tbody tr th {\n",
       "        vertical-align: top;\n",
       "    }\n",
       "\n",
       "    .dataframe thead th {\n",
       "        text-align: right;\n",
       "    }\n",
       "</style>\n",
       "<table border=\"1\" class=\"dataframe\">\n",
       "  <thead>\n",
       "    <tr style=\"text-align: right;\">\n",
       "      <th></th>\n",
       "      <th>Tweet Id</th>\n",
       "      <th>Screen Name</th>\n",
       "      <th>Text</th>\n",
       "      <th>Tweets</th>\n",
       "      <th>stop_words</th>\n",
       "    </tr>\n",
       "  </thead>\n",
       "  <tbody>\n",
       "    <tr>\n",
       "      <th>0</th>\n",
       "      <td>1377230154108395526</td>\n",
       "      <td>Itsa_Kumquat</td>\n",
       "      <td>@Safaricom_Care I have done that many times an...</td>\n",
       "      <td>[safaricom_care, i, done, many, times, still, ...</td>\n",
       "      <td>[have, that, and, i, the]</td>\n",
       "    </tr>\n",
       "    <tr>\n",
       "      <th>1</th>\n",
       "      <td>1377229963661819914</td>\n",
       "      <td>LeilaaAbubakar</td>\n",
       "      <td>RT @Elainesoya : @mwangideloh In Garissa behin...</td>\n",
       "      <td>[rt, elainesoya, mwangideloh, in, garissa, beh...</td>\n",
       "      <td>[]</td>\n",
       "    </tr>\n",
       "    <tr>\n",
       "      <th>2</th>\n",
       "      <td>1377229925032280064</td>\n",
       "      <td>layawayuno</td>\n",
       "      <td>RT @KUcoolkid : Are you in online business and...</td>\n",
       "      <td>[rt, kucoolkid, are, online, business, keep, r...</td>\n",
       "      <td>[you, in, and, you, out, of, no, more, and]</td>\n",
       "    </tr>\n",
       "    <tr>\n",
       "      <th>3</th>\n",
       "      <td>1377229854312169473</td>\n",
       "      <td>mutuahkiilu</td>\n",
       "      <td>RT @Liberal_KE : Enjoy YouTube music with safa...</td>\n",
       "      <td>[rt, liberal_ke, enjoy, youtube, music, safari...</td>\n",
       "      <td>[with, after]</td>\n",
       "    </tr>\n",
       "    <tr>\n",
       "      <th>4</th>\n",
       "      <td>1377229662917685251</td>\n",
       "      <td>DARSIL254</td>\n",
       "      <td>RT @DARSIL254 : Which Paybill are you using if...</td>\n",
       "      <td>[rt, darsil, which, paybill, using, buy, safar...</td>\n",
       "      <td>[are, you, if, not, to]</td>\n",
       "    </tr>\n",
       "  </tbody>\n",
       "</table>\n",
       "</div>"
      ],
      "text/plain": [
       "              Tweet Id     Screen Name  \\\n",
       "0  1377230154108395526    Itsa_Kumquat   \n",
       "1  1377229963661819914  LeilaaAbubakar   \n",
       "2  1377229925032280064      layawayuno   \n",
       "3  1377229854312169473     mutuahkiilu   \n",
       "4  1377229662917685251       DARSIL254   \n",
       "\n",
       "                                                Text  \\\n",
       "0  @Safaricom_Care I have done that many times an...   \n",
       "1  RT @Elainesoya : @mwangideloh In Garissa behin...   \n",
       "2  RT @KUcoolkid : Are you in online business and...   \n",
       "3  RT @Liberal_KE : Enjoy YouTube music with safa...   \n",
       "4  RT @DARSIL254 : Which Paybill are you using if...   \n",
       "\n",
       "                                              Tweets  \\\n",
       "0  [safaricom_care, i, done, many, times, still, ...   \n",
       "1  [rt, elainesoya, mwangideloh, in, garissa, beh...   \n",
       "2  [rt, kucoolkid, are, online, business, keep, r...   \n",
       "3  [rt, liberal_ke, enjoy, youtube, music, safari...   \n",
       "4  [rt, darsil, which, paybill, using, buy, safar...   \n",
       "\n",
       "                                    stop_words  \n",
       "0                    [have, that, and, i, the]  \n",
       "1                                           []  \n",
       "2  [you, in, and, you, out, of, no, more, and]  \n",
       "3                                [with, after]  \n",
       "4                      [are, you, if, not, to]  "
      ]
     },
     "execution_count": 11,
     "metadata": {},
     "output_type": "execute_result"
    }
   ],
   "source": [
    "tweets_df.head()"
   ]
  },
  {
   "cell_type": "code",
   "execution_count": 12,
   "id": "arbitrary-hormone",
   "metadata": {
    "execution": {
     "iopub.execute_input": "2021-04-02T13:08:39.891758Z",
     "iopub.status.busy": "2021-04-02T13:08:39.890607Z",
     "iopub.status.idle": "2021-04-02T13:08:39.895708Z",
     "shell.execute_reply": "2021-04-02T13:08:39.895141Z"
    },
    "id": "qEXGBkOeMux4",
    "outputId": "38a801ee-002f-42f7-cff7-32f2881c0416",
    "papermill": {
     "duration": 0.050391,
     "end_time": "2021-04-02T13:08:39.895900",
     "exception": false,
     "start_time": "2021-04-02T13:08:39.845509",
     "status": "completed"
    },
    "tags": []
   },
   "outputs": [
    {
     "data": {
      "text/plain": [
       "'!\"#$%&\\'()*+,-./:;<=>?@[\\\\]^_`{|}~'"
      ]
     },
     "execution_count": 12,
     "metadata": {},
     "output_type": "execute_result"
    }
   ],
   "source": [
    "string.punctuation"
   ]
  },
  {
   "cell_type": "code",
   "execution_count": 13,
   "id": "overhead-luxury",
   "metadata": {
    "execution": {
     "iopub.execute_input": "2021-04-02T13:08:39.997451Z",
     "iopub.status.busy": "2021-04-02T13:08:39.986694Z",
     "iopub.status.idle": "2021-04-02T13:08:41.206850Z",
     "shell.execute_reply": "2021-04-02T13:08:41.207511Z"
    },
    "id": "R7BkOR_dux6H",
    "outputId": "f7d700c3-0ee1-4350-f663-7b8f116f3da9",
    "papermill": {
     "duration": 1.271624,
     "end_time": "2021-04-02T13:08:41.207731",
     "exception": false,
     "start_time": "2021-04-02T13:08:39.936107",
     "status": "completed"
    },
    "tags": []
   },
   "outputs": [
    {
     "name": "stderr",
     "output_type": "stream",
     "text": [
      "/opt/conda/lib/python3.7/site-packages/ipykernel_launcher.py:3: SettingWithCopyWarning: \n",
      "A value is trying to be set on a copy of a slice from a DataFrame.\n",
      "Try using .loc[row_indexer,col_indexer] = value instead\n",
      "\n",
      "See the caveats in the documentation: https://pandas.pydata.org/pandas-docs/stable/user_guide/indexing.html#returning-a-view-versus-a-copy\n",
      "  This is separate from the ipykernel package so we can avoid doing imports until\n"
     ]
    },
    {
     "data": {
      "text/html": [
       "<div>\n",
       "<style scoped>\n",
       "    .dataframe tbody tr th:only-of-type {\n",
       "        vertical-align: middle;\n",
       "    }\n",
       "\n",
       "    .dataframe tbody tr th {\n",
       "        vertical-align: top;\n",
       "    }\n",
       "\n",
       "    .dataframe thead th {\n",
       "        text-align: right;\n",
       "    }\n",
       "</style>\n",
       "<table border=\"1\" class=\"dataframe\">\n",
       "  <thead>\n",
       "    <tr style=\"text-align: right;\">\n",
       "      <th></th>\n",
       "      <th>Tweet Id</th>\n",
       "      <th>Screen Name</th>\n",
       "      <th>Text</th>\n",
       "      <th>Tweets</th>\n",
       "      <th>stop_words</th>\n",
       "    </tr>\n",
       "  </thead>\n",
       "  <tbody>\n",
       "    <tr>\n",
       "      <th>0</th>\n",
       "      <td>1377230154108395526</td>\n",
       "      <td>Itsa_Kumquat</td>\n",
       "      <td>@Safaricom_Care I have done that many times an...</td>\n",
       "      <td>[safaricom_car, i, done, mani, time, still, ge...</td>\n",
       "      <td>[have, that, and, i, the]</td>\n",
       "    </tr>\n",
       "    <tr>\n",
       "      <th>1</th>\n",
       "      <td>1377229963661819914</td>\n",
       "      <td>LeilaaAbubakar</td>\n",
       "      <td>RT @Elainesoya : @mwangideloh In Garissa behin...</td>\n",
       "      <td>[rt, elainesoya, mwangideloh, in, garissa, beh...</td>\n",
       "      <td>[]</td>\n",
       "    </tr>\n",
       "    <tr>\n",
       "      <th>2</th>\n",
       "      <td>1377229925032280064</td>\n",
       "      <td>layawayuno</td>\n",
       "      <td>RT @KUcoolkid : Are you in online business and...</td>\n",
       "      <td>[rt, kucoolkid, are, onlin, busi, keep, run, b...</td>\n",
       "      <td>[you, in, and, you, out, of, no, more, and]</td>\n",
       "    </tr>\n",
       "    <tr>\n",
       "      <th>3</th>\n",
       "      <td>1377229854312169473</td>\n",
       "      <td>mutuahkiilu</td>\n",
       "      <td>RT @Liberal_KE : Enjoy YouTube music with safa...</td>\n",
       "      <td>[rt, liberal_k, enjoy, youtub, music, safarico...</td>\n",
       "      <td>[with, after]</td>\n",
       "    </tr>\n",
       "    <tr>\n",
       "      <th>4</th>\n",
       "      <td>1377229662917685251</td>\n",
       "      <td>DARSIL254</td>\n",
       "      <td>RT @DARSIL254 : Which Paybill are you using if...</td>\n",
       "      <td>[rt, darsil, which, paybil, use, buy, safarico...</td>\n",
       "      <td>[are, you, if, not, to]</td>\n",
       "    </tr>\n",
       "  </tbody>\n",
       "</table>\n",
       "</div>"
      ],
      "text/plain": [
       "              Tweet Id     Screen Name  \\\n",
       "0  1377230154108395526    Itsa_Kumquat   \n",
       "1  1377229963661819914  LeilaaAbubakar   \n",
       "2  1377229925032280064      layawayuno   \n",
       "3  1377229854312169473     mutuahkiilu   \n",
       "4  1377229662917685251       DARSIL254   \n",
       "\n",
       "                                                Text  \\\n",
       "0  @Safaricom_Care I have done that many times an...   \n",
       "1  RT @Elainesoya : @mwangideloh In Garissa behin...   \n",
       "2  RT @KUcoolkid : Are you in online business and...   \n",
       "3  RT @Liberal_KE : Enjoy YouTube music with safa...   \n",
       "4  RT @DARSIL254 : Which Paybill are you using if...   \n",
       "\n",
       "                                              Tweets  \\\n",
       "0  [safaricom_car, i, done, mani, time, still, ge...   \n",
       "1  [rt, elainesoya, mwangideloh, in, garissa, beh...   \n",
       "2  [rt, kucoolkid, are, onlin, busi, keep, run, b...   \n",
       "3  [rt, liberal_k, enjoy, youtub, music, safarico...   \n",
       "4  [rt, darsil, which, paybil, use, buy, safarico...   \n",
       "\n",
       "                                    stop_words  \n",
       "0                    [have, that, and, i, the]  \n",
       "1                                           []  \n",
       "2  [you, in, and, you, out, of, no, more, and]  \n",
       "3                                [with, after]  \n",
       "4                      [are, you, if, not, to]  "
      ]
     },
     "execution_count": 13,
     "metadata": {},
     "output_type": "execute_result"
    }
   ],
   "source": [
    "from nltk.stem.porter import *\n",
    "stemmer = PorterStemmer()\n",
    "tweets_df[\"Tweets\"] = tweets_df[\"Tweets\"].apply(lambda x: [stemmer.stem(w) for w in x])\n",
    "tweets_df.head()"
   ]
  },
  {
   "cell_type": "code",
   "execution_count": 14,
   "id": "instrumental-biotechnology",
   "metadata": {
    "execution": {
     "iopub.execute_input": "2021-04-02T13:08:41.324426Z",
     "iopub.status.busy": "2021-04-02T13:08:41.319050Z",
     "iopub.status.idle": "2021-04-02T13:08:41.336517Z",
     "shell.execute_reply": "2021-04-02T13:08:41.335668Z"
    },
    "id": "Fb9a5HIGMyRo",
    "outputId": "cb05b8b8-043b-47af-a080-45353d165cd2",
    "papermill": {
     "duration": 0.085934,
     "end_time": "2021-04-02T13:08:41.336738",
     "exception": false,
     "start_time": "2021-04-02T13:08:41.250804",
     "status": "completed"
    },
    "tags": []
   },
   "outputs": [
    {
     "name": "stderr",
     "output_type": "stream",
     "text": [
      "/opt/conda/lib/python3.7/site-packages/ipykernel_launcher.py:7: SettingWithCopyWarning: \n",
      "A value is trying to be set on a copy of a slice from a DataFrame.\n",
      "Try using .loc[row_indexer,col_indexer] = value instead\n",
      "\n",
      "See the caveats in the documentation: https://pandas.pydata.org/pandas-docs/stable/user_guide/indexing.html#returning-a-view-versus-a-copy\n",
      "  import sys\n"
     ]
    }
   ],
   "source": [
    "\n",
    "def remove_punct(text):\n",
    "  text = \" \".join([char for char in text if char not in string.punctuation])\n",
    "  text = re.sub('[0-9]+', '', text)\n",
    "  \n",
    "  \n",
    "  return text\n",
    "tweets_df['tweet_punct'] = tweets_df['Tweets'].apply(lambda x: remove_punct(x))\n"
   ]
  },
  {
   "cell_type": "code",
   "execution_count": 15,
   "id": "activated-trouble",
   "metadata": {
    "execution": {
     "iopub.execute_input": "2021-04-02T13:08:41.446646Z",
     "iopub.status.busy": "2021-04-02T13:08:41.445932Z",
     "iopub.status.idle": "2021-04-02T13:08:41.451310Z",
     "shell.execute_reply": "2021-04-02T13:08:41.450642Z"
    },
    "id": "1oS3wdfJOMUx",
    "outputId": "0dc162ef-1923-422f-c15f-0f92770e4731",
    "papermill": {
     "duration": 0.071137,
     "end_time": "2021-04-02T13:08:41.451466",
     "exception": false,
     "start_time": "2021-04-02T13:08:41.380329",
     "status": "completed"
    },
    "tags": []
   },
   "outputs": [
    {
     "data": {
      "text/html": [
       "<div>\n",
       "<style scoped>\n",
       "    .dataframe tbody tr th:only-of-type {\n",
       "        vertical-align: middle;\n",
       "    }\n",
       "\n",
       "    .dataframe tbody tr th {\n",
       "        vertical-align: top;\n",
       "    }\n",
       "\n",
       "    .dataframe thead th {\n",
       "        text-align: right;\n",
       "    }\n",
       "</style>\n",
       "<table border=\"1\" class=\"dataframe\">\n",
       "  <thead>\n",
       "    <tr style=\"text-align: right;\">\n",
       "      <th></th>\n",
       "      <th>Tweet Id</th>\n",
       "      <th>Screen Name</th>\n",
       "      <th>Text</th>\n",
       "      <th>Tweets</th>\n",
       "      <th>stop_words</th>\n",
       "      <th>tweet_punct</th>\n",
       "    </tr>\n",
       "  </thead>\n",
       "  <tbody>\n",
       "    <tr>\n",
       "      <th>0</th>\n",
       "      <td>1377230154108395526</td>\n",
       "      <td>Itsa_Kumquat</td>\n",
       "      <td>@Safaricom_Care I have done that many times an...</td>\n",
       "      <td>[safaricom_car, i, done, mani, time, still, ge...</td>\n",
       "      <td>[have, that, and, i, the]</td>\n",
       "      <td>safaricom_car i done mani time still get messag</td>\n",
       "    </tr>\n",
       "    <tr>\n",
       "      <th>1</th>\n",
       "      <td>1377229963661819914</td>\n",
       "      <td>LeilaaAbubakar</td>\n",
       "      <td>RT @Elainesoya : @mwangideloh In Garissa behin...</td>\n",
       "      <td>[rt, elainesoya, mwangideloh, in, garissa, beh...</td>\n",
       "      <td>[]</td>\n",
       "      <td>rt elainesoya mwangideloh in garissa behind ji...</td>\n",
       "    </tr>\n",
       "    <tr>\n",
       "      <th>2</th>\n",
       "      <td>1377229925032280064</td>\n",
       "      <td>layawayuno</td>\n",
       "      <td>RT @KUcoolkid : Are you in online business and...</td>\n",
       "      <td>[rt, kucoolkid, are, onlin, busi, keep, run, b...</td>\n",
       "      <td>[you, in, and, you, out, of, no, more, and]</td>\n",
       "      <td>rt kucoolkid are onlin busi keep run bundl wor...</td>\n",
       "    </tr>\n",
       "    <tr>\n",
       "      <th>3</th>\n",
       "      <td>1377229854312169473</td>\n",
       "      <td>mutuahkiilu</td>\n",
       "      <td>RT @Liberal_KE : Enjoy YouTube music with safa...</td>\n",
       "      <td>[rt, liberal_k, enjoy, youtub, music, safarico...</td>\n",
       "      <td>[with, after]</td>\n",
       "      <td>rt liberal_k enjoy youtub music safaricom yout...</td>\n",
       "    </tr>\n",
       "    <tr>\n",
       "      <th>4</th>\n",
       "      <td>1377229662917685251</td>\n",
       "      <td>DARSIL254</td>\n",
       "      <td>RT @DARSIL254 : Which Paybill are you using if...</td>\n",
       "      <td>[rt, darsil, which, paybil, use, buy, safarico...</td>\n",
       "      <td>[are, you, if, not, to]</td>\n",
       "      <td>rt darsil which paybil use buy safaricom airti...</td>\n",
       "    </tr>\n",
       "    <tr>\n",
       "      <th>5</th>\n",
       "      <td>1377229576452124675</td>\n",
       "      <td>JohnNakholi</td>\n",
       "      <td>RT @ReubenKigame : Before I am told to be grat...</td>\n",
       "      <td>[rt, reubenkigam, befor, i, told, grate, think...</td>\n",
       "      <td>[am, to, be, about, and, from, and, other, the...</td>\n",
       "      <td>rt reubenkigam befor i told grate think mcsk p...</td>\n",
       "    </tr>\n",
       "    <tr>\n",
       "      <th>6</th>\n",
       "      <td>1377229563986653191</td>\n",
       "      <td>Liberal_KE</td>\n",
       "      <td>RT @KUcoolkid : Usi reverse call tena, you can...</td>\n",
       "      <td>[rt, kucoolkid, usi, revers, call, tena, buy, ...</td>\n",
       "      <td>[you, can, now, you, have, in, your, you, can]</td>\n",
       "      <td>rt kucoolkid usi revers call tena buy safarico...</td>\n",
       "    </tr>\n",
       "    <tr>\n",
       "      <th>7</th>\n",
       "      <td>1377229517903835140</td>\n",
       "      <td>Liberal_KE</td>\n",
       "      <td>Enjoy YouTube music with safaricom YouTube bun...</td>\n",
       "      <td>[enjoy, youtub, music, safaricom, youtub, bund...</td>\n",
       "      <td>[with, after]</td>\n",
       "      <td>enjoy youtub music safaricom youtub bundl youv...</td>\n",
       "    </tr>\n",
       "    <tr>\n",
       "      <th>8</th>\n",
       "      <td>1377229516926550020</td>\n",
       "      <td>MrRetwetts</td>\n",
       "      <td>#UnlockOurkenya\\n\\n#Safaricom Plc kindly bring...</td>\n",
       "      <td>[unlockourkenya, safaricom, plc, kindli, bring...</td>\n",
       "      <td>[the, for, and, below, in, these]</td>\n",
       "      <td>unlockourkenya safaricom plc kindli bring back...</td>\n",
       "    </tr>\n",
       "    <tr>\n",
       "      <th>9</th>\n",
       "      <td>1377229513868906497</td>\n",
       "      <td>DARSIL254</td>\n",
       "      <td>RT @KUcoolkid : Are you in online business and...</td>\n",
       "      <td>[rt, kucoolkid, are, onlin, busi, keep, run, b...</td>\n",
       "      <td>[you, in, and, you, out, of, no, more, and]</td>\n",
       "      <td>rt kucoolkid are onlin busi keep run bundl wor...</td>\n",
       "    </tr>\n",
       "  </tbody>\n",
       "</table>\n",
       "</div>"
      ],
      "text/plain": [
       "              Tweet Id     Screen Name  \\\n",
       "0  1377230154108395526    Itsa_Kumquat   \n",
       "1  1377229963661819914  LeilaaAbubakar   \n",
       "2  1377229925032280064      layawayuno   \n",
       "3  1377229854312169473     mutuahkiilu   \n",
       "4  1377229662917685251       DARSIL254   \n",
       "5  1377229576452124675     JohnNakholi   \n",
       "6  1377229563986653191      Liberal_KE   \n",
       "7  1377229517903835140      Liberal_KE   \n",
       "8  1377229516926550020      MrRetwetts   \n",
       "9  1377229513868906497       DARSIL254   \n",
       "\n",
       "                                                Text  \\\n",
       "0  @Safaricom_Care I have done that many times an...   \n",
       "1  RT @Elainesoya : @mwangideloh In Garissa behin...   \n",
       "2  RT @KUcoolkid : Are you in online business and...   \n",
       "3  RT @Liberal_KE : Enjoy YouTube music with safa...   \n",
       "4  RT @DARSIL254 : Which Paybill are you using if...   \n",
       "5  RT @ReubenKigame : Before I am told to be grat...   \n",
       "6  RT @KUcoolkid : Usi reverse call tena, you can...   \n",
       "7  Enjoy YouTube music with safaricom YouTube bun...   \n",
       "8  #UnlockOurkenya\\n\\n#Safaricom Plc kindly bring...   \n",
       "9  RT @KUcoolkid : Are you in online business and...   \n",
       "\n",
       "                                              Tweets  \\\n",
       "0  [safaricom_car, i, done, mani, time, still, ge...   \n",
       "1  [rt, elainesoya, mwangideloh, in, garissa, beh...   \n",
       "2  [rt, kucoolkid, are, onlin, busi, keep, run, b...   \n",
       "3  [rt, liberal_k, enjoy, youtub, music, safarico...   \n",
       "4  [rt, darsil, which, paybil, use, buy, safarico...   \n",
       "5  [rt, reubenkigam, befor, i, told, grate, think...   \n",
       "6  [rt, kucoolkid, usi, revers, call, tena, buy, ...   \n",
       "7  [enjoy, youtub, music, safaricom, youtub, bund...   \n",
       "8  [unlockourkenya, safaricom, plc, kindli, bring...   \n",
       "9  [rt, kucoolkid, are, onlin, busi, keep, run, b...   \n",
       "\n",
       "                                          stop_words  \\\n",
       "0                          [have, that, and, i, the]   \n",
       "1                                                 []   \n",
       "2        [you, in, and, you, out, of, no, more, and]   \n",
       "3                                      [with, after]   \n",
       "4                            [are, you, if, not, to]   \n",
       "5  [am, to, be, about, and, from, and, other, the...   \n",
       "6     [you, can, now, you, have, in, your, you, can]   \n",
       "7                                      [with, after]   \n",
       "8                  [the, for, and, below, in, these]   \n",
       "9        [you, in, and, you, out, of, no, more, and]   \n",
       "\n",
       "                                         tweet_punct  \n",
       "0    safaricom_car i done mani time still get messag  \n",
       "1  rt elainesoya mwangideloh in garissa behind ji...  \n",
       "2  rt kucoolkid are onlin busi keep run bundl wor...  \n",
       "3  rt liberal_k enjoy youtub music safaricom yout...  \n",
       "4  rt darsil which paybil use buy safaricom airti...  \n",
       "5  rt reubenkigam befor i told grate think mcsk p...  \n",
       "6  rt kucoolkid usi revers call tena buy safarico...  \n",
       "7  enjoy youtub music safaricom youtub bundl youv...  \n",
       "8  unlockourkenya safaricom plc kindli bring back...  \n",
       "9  rt kucoolkid are onlin busi keep run bundl wor...  "
      ]
     },
     "execution_count": 15,
     "metadata": {},
     "output_type": "execute_result"
    }
   ],
   "source": [
    "tweets_df.head(10)"
   ]
  },
  {
   "cell_type": "code",
   "execution_count": 16,
   "id": "worthy-geology",
   "metadata": {
    "execution": {
     "iopub.execute_input": "2021-04-02T13:08:41.557166Z",
     "iopub.status.busy": "2021-04-02T13:08:41.556391Z",
     "iopub.status.idle": "2021-04-02T13:08:41.562024Z",
     "shell.execute_reply": "2021-04-02T13:08:41.561029Z"
    },
    "id": "rptWAf1DoO0Y",
    "outputId": "0e8806e9-e85f-4e12-cdbe-89470ba2acc9",
    "papermill": {
     "duration": 0.065962,
     "end_time": "2021-04-02T13:08:41.562214",
     "exception": false,
     "start_time": "2021-04-02T13:08:41.496252",
     "status": "completed"
    },
    "tags": []
   },
   "outputs": [
    {
     "data": {
      "text/html": [
       "<div>\n",
       "<style scoped>\n",
       "    .dataframe tbody tr th:only-of-type {\n",
       "        vertical-align: middle;\n",
       "    }\n",
       "\n",
       "    .dataframe tbody tr th {\n",
       "        vertical-align: top;\n",
       "    }\n",
       "\n",
       "    .dataframe thead th {\n",
       "        text-align: right;\n",
       "    }\n",
       "</style>\n",
       "<table border=\"1\" class=\"dataframe\">\n",
       "  <thead>\n",
       "    <tr style=\"text-align: right;\">\n",
       "      <th></th>\n",
       "      <th>Tweet Id</th>\n",
       "      <th>Screen Name</th>\n",
       "      <th>Text</th>\n",
       "      <th>Tweets</th>\n",
       "      <th>stop_words</th>\n",
       "      <th>tweet_punct</th>\n",
       "    </tr>\n",
       "  </thead>\n",
       "  <tbody>\n",
       "    <tr>\n",
       "      <th>0</th>\n",
       "      <td>1377230154108395526</td>\n",
       "      <td>Itsa_Kumquat</td>\n",
       "      <td>@Safaricom_Care I have done that many times an...</td>\n",
       "      <td>[safaricom_car, i, done, mani, time, still, ge...</td>\n",
       "      <td>[have, that, and, i, the]</td>\n",
       "      <td>safaricom_car i done mani time still get messag</td>\n",
       "    </tr>\n",
       "    <tr>\n",
       "      <th>1</th>\n",
       "      <td>1377229963661819914</td>\n",
       "      <td>LeilaaAbubakar</td>\n",
       "      <td>RT @Elainesoya : @mwangideloh In Garissa behin...</td>\n",
       "      <td>[rt, elainesoya, mwangideloh, in, garissa, beh...</td>\n",
       "      <td>[]</td>\n",
       "      <td>rt elainesoya mwangideloh in garissa behind ji...</td>\n",
       "    </tr>\n",
       "    <tr>\n",
       "      <th>2</th>\n",
       "      <td>1377229925032280064</td>\n",
       "      <td>layawayuno</td>\n",
       "      <td>RT @KUcoolkid : Are you in online business and...</td>\n",
       "      <td>[rt, kucoolkid, are, onlin, busi, keep, run, b...</td>\n",
       "      <td>[you, in, and, you, out, of, no, more, and]</td>\n",
       "      <td>rt kucoolkid are onlin busi keep run bundl wor...</td>\n",
       "    </tr>\n",
       "    <tr>\n",
       "      <th>3</th>\n",
       "      <td>1377229854312169473</td>\n",
       "      <td>mutuahkiilu</td>\n",
       "      <td>RT @Liberal_KE : Enjoy YouTube music with safa...</td>\n",
       "      <td>[rt, liberal_k, enjoy, youtub, music, safarico...</td>\n",
       "      <td>[with, after]</td>\n",
       "      <td>rt liberal_k enjoy youtub music safaricom yout...</td>\n",
       "    </tr>\n",
       "    <tr>\n",
       "      <th>4</th>\n",
       "      <td>1377229662917685251</td>\n",
       "      <td>DARSIL254</td>\n",
       "      <td>RT @DARSIL254 : Which Paybill are you using if...</td>\n",
       "      <td>[rt, darsil, which, paybil, use, buy, safarico...</td>\n",
       "      <td>[are, you, if, not, to]</td>\n",
       "      <td>rt darsil which paybil use buy safaricom airti...</td>\n",
       "    </tr>\n",
       "  </tbody>\n",
       "</table>\n",
       "</div>"
      ],
      "text/plain": [
       "              Tweet Id     Screen Name  \\\n",
       "0  1377230154108395526    Itsa_Kumquat   \n",
       "1  1377229963661819914  LeilaaAbubakar   \n",
       "2  1377229925032280064      layawayuno   \n",
       "3  1377229854312169473     mutuahkiilu   \n",
       "4  1377229662917685251       DARSIL254   \n",
       "\n",
       "                                                Text  \\\n",
       "0  @Safaricom_Care I have done that many times an...   \n",
       "1  RT @Elainesoya : @mwangideloh In Garissa behin...   \n",
       "2  RT @KUcoolkid : Are you in online business and...   \n",
       "3  RT @Liberal_KE : Enjoy YouTube music with safa...   \n",
       "4  RT @DARSIL254 : Which Paybill are you using if...   \n",
       "\n",
       "                                              Tweets  \\\n",
       "0  [safaricom_car, i, done, mani, time, still, ge...   \n",
       "1  [rt, elainesoya, mwangideloh, in, garissa, beh...   \n",
       "2  [rt, kucoolkid, are, onlin, busi, keep, run, b...   \n",
       "3  [rt, liberal_k, enjoy, youtub, music, safarico...   \n",
       "4  [rt, darsil, which, paybil, use, buy, safarico...   \n",
       "\n",
       "                                    stop_words  \\\n",
       "0                    [have, that, and, i, the]   \n",
       "1                                           []   \n",
       "2  [you, in, and, you, out, of, no, more, and]   \n",
       "3                                [with, after]   \n",
       "4                      [are, you, if, not, to]   \n",
       "\n",
       "                                         tweet_punct  \n",
       "0    safaricom_car i done mani time still get messag  \n",
       "1  rt elainesoya mwangideloh in garissa behind ji...  \n",
       "2  rt kucoolkid are onlin busi keep run bundl wor...  \n",
       "3  rt liberal_k enjoy youtub music safaricom yout...  \n",
       "4  rt darsil which paybil use buy safaricom airti...  "
      ]
     },
     "execution_count": 16,
     "metadata": {},
     "output_type": "execute_result"
    }
   ],
   "source": [
    "tweets_df.head()"
   ]
  },
  {
   "cell_type": "markdown",
   "id": "buried-promotion",
   "metadata": {
    "id": "FOo_ry3473fr",
    "papermill": {
     "duration": 0.043364,
     "end_time": "2021-04-02T13:08:41.648947",
     "exception": false,
     "start_time": "2021-04-02T13:08:41.605583",
     "status": "completed"
    },
    "tags": []
   },
   "source": [
    "<h1>Data visualization (word cloud)</h1>"
   ]
  },
  {
   "cell_type": "code",
   "execution_count": 17,
   "id": "mathematical-calculator",
   "metadata": {
    "execution": {
     "iopub.execute_input": "2021-04-02T13:08:41.744202Z",
     "iopub.status.busy": "2021-04-02T13:08:41.743251Z",
     "iopub.status.idle": "2021-04-02T13:08:43.331339Z",
     "shell.execute_reply": "2021-04-02T13:08:43.331889Z"
    },
    "id": "6ALNlxZMy-kL",
    "outputId": "a7fc138e-d36f-49e9-e80a-c5de954682b8",
    "papermill": {
     "duration": 1.64038,
     "end_time": "2021-04-02T13:08:43.332066",
     "exception": false,
     "start_time": "2021-04-02T13:08:41.691686",
     "status": "completed"
    },
    "tags": []
   },
   "outputs": [
    {
     "data": {
      "image/png": "[encoded data removed]",
      "text/plain": [
       "<Figure size 720x504 with 1 Axes>"
      ]
     },
     "metadata": {
      "needs_background": "light"
     },
     "output_type": "display_data"
    }
   ],
   "source": [
    "import matplotlib.pyplot as plt\n",
    "all_words = ' '.join([text for text in tweets_df['tweet_punct']])\n",
    "from wordcloud import WordCloud\n",
    "wordcloud = WordCloud(width=800, height=500, random_state=21, max_font_size=110).generate(all_words)\n",
    "\n",
    "plt.figure(figsize=(10, 7))\n",
    "plt.imshow(wordcloud, interpolation=\"bilinear\")\n",
    "plt.axis('off')\n",
    "plt.show()\n"
   ]
  },
  {
   "cell_type": "markdown",
   "id": "christian-wrist",
   "metadata": {
    "id": "fn6Gj8Wi8GJT",
    "papermill": {
     "duration": 0.053134,
     "end_time": "2021-04-02T13:08:43.438358",
     "exception": false,
     "start_time": "2021-04-02T13:08:43.385224",
     "status": "completed"
    },
    "tags": []
   },
   "source": [
    "<h1>Get most frequent words</h1>"
   ]
  },
  {
   "cell_type": "code",
   "execution_count": 18,
   "id": "sought-aruba",
   "metadata": {
    "execution": {
     "iopub.execute_input": "2021-04-02T13:08:43.563093Z",
     "iopub.status.busy": "2021-04-02T13:08:43.557440Z",
     "iopub.status.idle": "2021-04-02T13:08:43.579942Z",
     "shell.execute_reply": "2021-04-02T13:08:43.579205Z"
    },
    "id": "54uutCTnxxbn",
    "outputId": "f5f46e95-c45f-4dbe-983d-d261b6df6361",
    "papermill": {
     "duration": 0.087738,
     "end_time": "2021-04-02T13:08:43.580110",
     "exception": false,
     "start_time": "2021-04-02T13:08:43.492372",
     "status": "completed"
    },
    "tags": []
   },
   "outputs": [
    {
     "data": {
      "text/plain": [
       "[('safaricom', 1586),\n",
       " ('rt', 974),\n",
       " ('i', 723),\n",
       " ('safaricom_car', 610),\n",
       " ('mpesa', 428),\n",
       " ('get', 344),\n",
       " ('share', 300),\n",
       " ('m', 267),\n",
       " ('safaricomplc', 265),\n",
       " ('ruto', 259)]"
      ]
     },
     "execution_count": 18,
     "metadata": {},
     "output_type": "execute_result"
    }
   ],
   "source": [
    "from collections import Counter\n",
    "\n",
    "cnt = Counter()\n",
    "for text in tweets_df[\"tweet_punct\"].values:\n",
    "    for word in text.split():\n",
    "        cnt[word] += 1\n",
    "        \n",
    "cnt.most_common(10)"
   ]
  },
  {
   "cell_type": "code",
   "execution_count": 19,
   "id": "alive-bridges",
   "metadata": {
    "execution": {
     "iopub.execute_input": "2021-04-02T13:08:43.695816Z",
     "iopub.status.busy": "2021-04-02T13:08:43.695099Z",
     "iopub.status.idle": "2021-04-02T13:08:51.289903Z",
     "shell.execute_reply": "2021-04-02T13:08:51.289165Z"
    },
    "id": "kMZThxyBE2eI",
    "outputId": "82f77910-9386-4ccb-edc1-84a432622534",
    "papermill": {
     "duration": 7.657423,
     "end_time": "2021-04-02T13:08:51.290063",
     "exception": false,
     "start_time": "2021-04-02T13:08:43.632640",
     "status": "completed"
    },
    "tags": []
   },
   "outputs": [
    {
     "name": "stdout",
     "output_type": "stream",
     "text": [
      "Collecting vaderSentiment\n",
      "  Downloading vaderSentiment-3.3.2-py2.py3-none-any.whl (125 kB)\n",
      "\u001b[K     |████████████████████████████████| 125 kB 1.3 MB/s \n",
      "\u001b[?25hRequirement already satisfied: requests in /opt/conda/lib/python3.7/site-packages (from vaderSentiment) (2.25.1)\n",
      "Requirement already satisfied: idna<3,>=2.5 in /opt/conda/lib/python3.7/site-packages (from requests->vaderSentiment) (2.10)\n",
      "Requirement already satisfied: certifi>=2017.4.17 in /opt/conda/lib/python3.7/site-packages (from requests->vaderSentiment) (2020.12.5)\n",
      "Requirement already satisfied: chardet<5,>=3.0.2 in /opt/conda/lib/python3.7/site-packages (from requests->vaderSentiment) (3.0.4)\n",
      "Requirement already satisfied: urllib3<1.27,>=1.21.1 in /opt/conda/lib/python3.7/site-packages (from requests->vaderSentiment) (1.26.3)\n",
      "Installing collected packages: vaderSentiment\n",
      "Successfully installed vaderSentiment-3.3.2\n"
     ]
    }
   ],
   "source": [
    "!pip install vaderSentiment"
   ]
  },
  {
   "cell_type": "markdown",
   "id": "resident-influence",
   "metadata": {
    "id": "GQgMyYsk8R8L",
    "papermill": {
     "duration": 0.056301,
     "end_time": "2021-04-02T13:08:51.401515",
     "exception": false,
     "start_time": "2021-04-02T13:08:51.345214",
     "status": "completed"
    },
    "tags": []
   },
   "source": [
    "<h1>Import sklearn</h1>"
   ]
  },
  {
   "cell_type": "code",
   "execution_count": 20,
   "id": "ranging-invalid",
   "metadata": {
    "execution": {
     "iopub.execute_input": "2021-04-02T13:08:51.517910Z",
     "iopub.status.busy": "2021-04-02T13:08:51.517041Z",
     "iopub.status.idle": "2021-04-02T13:08:51.777157Z",
     "shell.execute_reply": "2021-04-02T13:08:51.777841Z"
    },
    "id": "_4iNifAlEVFs",
    "papermill": {
     "duration": 0.322427,
     "end_time": "2021-04-02T13:08:51.778051",
     "exception": false,
     "start_time": "2021-04-02T13:08:51.455624",
     "status": "completed"
    },
    "tags": []
   },
   "outputs": [],
   "source": [
    "from sklearn.cluster import KMeans\n",
    "from sklearn.decomposition import LatentDirichletAllocation\n",
    "from sklearn.feature_extraction.text import TfidfVectorizer\n",
    "from vaderSentiment.vaderSentiment import SentimentIntensityAnalyzer\n",
    "analyzer = SentimentIntensityAnalyzer()"
   ]
  },
  {
   "cell_type": "markdown",
   "id": "nonprofit-behavior",
   "metadata": {
    "id": "p0vojsuY_6Ts",
    "papermill": {
     "duration": 0.057012,
     "end_time": "2021-04-02T13:08:51.890674",
     "exception": false,
     "start_time": "2021-04-02T13:08:51.833662",
     "status": "completed"
    },
    "tags": []
   },
   "source": [
    "<h1>Getting sentiments label</h1>"
   ]
  },
  {
   "cell_type": "code",
   "execution_count": 21,
   "id": "governmental-ethernet",
   "metadata": {
    "execution": {
     "iopub.execute_input": "2021-04-02T13:08:52.009486Z",
     "iopub.status.busy": "2021-04-02T13:08:52.008407Z",
     "iopub.status.idle": "2021-04-02T13:08:53.077029Z",
     "shell.execute_reply": "2021-04-02T13:08:53.076466Z"
    },
    "id": "m-WHjtSJFGku",
    "outputId": "63df1c24-d601-43ed-ece4-1a80ccf1bba7",
    "papermill": {
     "duration": 1.128862,
     "end_time": "2021-04-02T13:08:53.077187",
     "exception": false,
     "start_time": "2021-04-02T13:08:51.948325",
     "status": "completed"
    },
    "tags": []
   },
   "outputs": [
    {
     "name": "stderr",
     "output_type": "stream",
     "text": [
      "/opt/conda/lib/python3.7/site-packages/ipykernel_launcher.py:16: SettingWithCopyWarning: \n",
      "A value is trying to be set on a copy of a slice from a DataFrame.\n",
      "Try using .loc[row_indexer,col_indexer] = value instead\n",
      "\n",
      "See the caveats in the documentation: https://pandas.pydata.org/pandas-docs/stable/user_guide/indexing.html#returning-a-view-versus-a-copy\n",
      "  app.launch_new_instance()\n",
      "/opt/conda/lib/python3.7/site-packages/ipykernel_launcher.py:17: SettingWithCopyWarning: \n",
      "A value is trying to be set on a copy of a slice from a DataFrame.\n",
      "Try using .loc[row_indexer,col_indexer] = value instead\n",
      "\n",
      "See the caveats in the documentation: https://pandas.pydata.org/pandas-docs/stable/user_guide/indexing.html#returning-a-view-versus-a-copy\n",
      "/opt/conda/lib/python3.7/site-packages/ipykernel_launcher.py:18: SettingWithCopyWarning: \n",
      "A value is trying to be set on a copy of a slice from a DataFrame.\n",
      "Try using .loc[row_indexer,col_indexer] = value instead\n",
      "\n",
      "See the caveats in the documentation: https://pandas.pydata.org/pandas-docs/stable/user_guide/indexing.html#returning-a-view-versus-a-copy\n"
     ]
    },
    {
     "data": {
      "text/html": [
       "<div>\n",
       "<style scoped>\n",
       "    .dataframe tbody tr th:only-of-type {\n",
       "        vertical-align: middle;\n",
       "    }\n",
       "\n",
       "    .dataframe tbody tr th {\n",
       "        vertical-align: top;\n",
       "    }\n",
       "\n",
       "    .dataframe thead th {\n",
       "        text-align: right;\n",
       "    }\n",
       "</style>\n",
       "<table border=\"1\" class=\"dataframe\">\n",
       "  <thead>\n",
       "    <tr style=\"text-align: right;\">\n",
       "      <th></th>\n",
       "      <th>Tweet Id</th>\n",
       "      <th>Screen Name</th>\n",
       "      <th>Text</th>\n",
       "      <th>Tweets</th>\n",
       "      <th>stop_words</th>\n",
       "      <th>tweet_punct</th>\n",
       "      <th>tweets_sent_compound</th>\n",
       "      <th>tweets_sent_pos</th>\n",
       "      <th>tweets_sent_neg</th>\n",
       "    </tr>\n",
       "  </thead>\n",
       "  <tbody>\n",
       "    <tr>\n",
       "      <th>0</th>\n",
       "      <td>1377230154108395526</td>\n",
       "      <td>Itsa_Kumquat</td>\n",
       "      <td>@Safaricom_Care I have done that many times an...</td>\n",
       "      <td>[safaricom_car, i, done, mani, time, still, ge...</td>\n",
       "      <td>[have, that, and, i, the]</td>\n",
       "      <td>safaricom_car i done mani time still get messag</td>\n",
       "      <td>0.0000</td>\n",
       "      <td>0.000</td>\n",
       "      <td>0.0</td>\n",
       "    </tr>\n",
       "    <tr>\n",
       "      <th>1</th>\n",
       "      <td>1377229963661819914</td>\n",
       "      <td>LeilaaAbubakar</td>\n",
       "      <td>RT @Elainesoya : @mwangideloh In Garissa behin...</td>\n",
       "      <td>[rt, elainesoya, mwangideloh, in, garissa, beh...</td>\n",
       "      <td>[]</td>\n",
       "      <td>rt elainesoya mwangideloh in garissa behind ji...</td>\n",
       "      <td>0.0000</td>\n",
       "      <td>0.000</td>\n",
       "      <td>0.0</td>\n",
       "    </tr>\n",
       "    <tr>\n",
       "      <th>2</th>\n",
       "      <td>1377229925032280064</td>\n",
       "      <td>layawayuno</td>\n",
       "      <td>RT @KUcoolkid : Are you in online business and...</td>\n",
       "      <td>[rt, kucoolkid, are, onlin, busi, keep, run, b...</td>\n",
       "      <td>[you, in, and, you, out, of, no, more, and]</td>\n",
       "      <td>rt kucoolkid are onlin busi keep run bundl wor...</td>\n",
       "      <td>0.0000</td>\n",
       "      <td>0.000</td>\n",
       "      <td>0.0</td>\n",
       "    </tr>\n",
       "    <tr>\n",
       "      <th>3</th>\n",
       "      <td>1377229854312169473</td>\n",
       "      <td>mutuahkiilu</td>\n",
       "      <td>RT @Liberal_KE : Enjoy YouTube music with safa...</td>\n",
       "      <td>[rt, liberal_k, enjoy, youtub, music, safarico...</td>\n",
       "      <td>[with, after]</td>\n",
       "      <td>rt liberal_k enjoy youtub music safaricom yout...</td>\n",
       "      <td>0.4939</td>\n",
       "      <td>0.211</td>\n",
       "      <td>0.0</td>\n",
       "    </tr>\n",
       "    <tr>\n",
       "      <th>4</th>\n",
       "      <td>1377229662917685251</td>\n",
       "      <td>DARSIL254</td>\n",
       "      <td>RT @DARSIL254 : Which Paybill are you using if...</td>\n",
       "      <td>[rt, darsil, which, paybil, use, buy, safarico...</td>\n",
       "      <td>[are, you, if, not, to]</td>\n",
       "      <td>rt darsil which paybil use buy safaricom airti...</td>\n",
       "      <td>0.0000</td>\n",
       "      <td>0.000</td>\n",
       "      <td>0.0</td>\n",
       "    </tr>\n",
       "  </tbody>\n",
       "</table>\n",
       "</div>"
      ],
      "text/plain": [
       "              Tweet Id     Screen Name  \\\n",
       "0  1377230154108395526    Itsa_Kumquat   \n",
       "1  1377229963661819914  LeilaaAbubakar   \n",
       "2  1377229925032280064      layawayuno   \n",
       "3  1377229854312169473     mutuahkiilu   \n",
       "4  1377229662917685251       DARSIL254   \n",
       "\n",
       "                                                Text  \\\n",
       "0  @Safaricom_Care I have done that many times an...   \n",
       "1  RT @Elainesoya : @mwangideloh In Garissa behin...   \n",
       "2  RT @KUcoolkid : Are you in online business and...   \n",
       "3  RT @Liberal_KE : Enjoy YouTube music with safa...   \n",
       "4  RT @DARSIL254 : Which Paybill are you using if...   \n",
       "\n",
       "                                              Tweets  \\\n",
       "0  [safaricom_car, i, done, mani, time, still, ge...   \n",
       "1  [rt, elainesoya, mwangideloh, in, garissa, beh...   \n",
       "2  [rt, kucoolkid, are, onlin, busi, keep, run, b...   \n",
       "3  [rt, liberal_k, enjoy, youtub, music, safarico...   \n",
       "4  [rt, darsil, which, paybil, use, buy, safarico...   \n",
       "\n",
       "                                    stop_words  \\\n",
       "0                    [have, that, and, i, the]   \n",
       "1                                           []   \n",
       "2  [you, in, and, you, out, of, no, more, and]   \n",
       "3                                [with, after]   \n",
       "4                      [are, you, if, not, to]   \n",
       "\n",
       "                                         tweet_punct  tweets_sent_compound  \\\n",
       "0    safaricom_car i done mani time still get messag                0.0000   \n",
       "1  rt elainesoya mwangideloh in garissa behind ji...                0.0000   \n",
       "2  rt kucoolkid are onlin busi keep run bundl wor...                0.0000   \n",
       "3  rt liberal_k enjoy youtub music safaricom yout...                0.4939   \n",
       "4  rt darsil which paybil use buy safaricom airti...                0.0000   \n",
       "\n",
       "   tweets_sent_pos  tweets_sent_neg  \n",
       "0            0.000              0.0  \n",
       "1            0.000              0.0  \n",
       "2            0.000              0.0  \n",
       "3            0.211              0.0  \n",
       "4            0.000              0.0  "
      ]
     },
     "execution_count": 21,
     "metadata": {},
     "output_type": "execute_result"
    }
   ],
   "source": [
    "def sentiment_score_compound(sentence):\n",
    "    score = analyzer.polarity_scores(sentence)\n",
    "    return score['compound']\n",
    "\n",
    "def sentiment_score_pos(sentence):\n",
    "    score = analyzer.polarity_scores(sentence)\n",
    "    return score['pos']\n",
    "\n",
    "def sentiment_score_neg(sentence):\n",
    "    score = analyzer.polarity_scores(sentence)\n",
    "    return score['neg']\n",
    "\n",
    "def sentiment_score_neu(sentence):\n",
    "    score = analyzer.polarity_scores(sentence)\n",
    "    return score['neu']\n",
    "tweets_df[\"tweets_sent_compound\"] = tweets_df[\"tweet_punct\"].apply(lambda x: sentiment_score_compound(x))\n",
    "tweets_df[\"tweets_sent_pos\"] = tweets_df[\"tweet_punct\"].apply(lambda x: sentiment_score_pos(x))\n",
    "tweets_df[\"tweets_sent_neg\"] = tweets_df[\"tweet_punct\"].apply(lambda x: sentiment_score_neg(x))\n",
    "tweets_df.head()"
   ]
  },
  {
   "cell_type": "code",
   "execution_count": 22,
   "id": "vietnamese-playback",
   "metadata": {
    "execution": {
     "iopub.execute_input": "2021-04-02T13:08:53.212863Z",
     "iopub.status.busy": "2021-04-02T13:08:53.204390Z",
     "iopub.status.idle": "2021-04-02T13:08:53.216786Z",
     "shell.execute_reply": "2021-04-02T13:08:53.217403Z"
    },
    "id": "o2Jbe3-LI2w8",
    "outputId": "5df49369-0f65-4f9f-9877-eda83ef5f372",
    "papermill": {
     "duration": 0.082396,
     "end_time": "2021-04-02T13:08:53.217612",
     "exception": false,
     "start_time": "2021-04-02T13:08:53.135216",
     "status": "completed"
    },
    "tags": []
   },
   "outputs": [
    {
     "data": {
      "text/html": [
       "<div>\n",
       "<style scoped>\n",
       "    .dataframe tbody tr th:only-of-type {\n",
       "        vertical-align: middle;\n",
       "    }\n",
       "\n",
       "    .dataframe tbody tr th {\n",
       "        vertical-align: top;\n",
       "    }\n",
       "\n",
       "    .dataframe thead th {\n",
       "        text-align: right;\n",
       "    }\n",
       "</style>\n",
       "<table border=\"1\" class=\"dataframe\">\n",
       "  <thead>\n",
       "    <tr style=\"text-align: right;\">\n",
       "      <th></th>\n",
       "      <th>Tweet Id</th>\n",
       "      <th>Screen Name</th>\n",
       "      <th>Text</th>\n",
       "      <th>Tweets</th>\n",
       "      <th>stop_words</th>\n",
       "      <th>tweet_punct</th>\n",
       "      <th>tweets_sent_compound</th>\n",
       "      <th>tweets_sent_pos</th>\n",
       "      <th>tweets_sent_neg</th>\n",
       "    </tr>\n",
       "  </thead>\n",
       "  <tbody>\n",
       "    <tr>\n",
       "      <th>4156</th>\n",
       "      <td>1372032135259906059</td>\n",
       "      <td>2021-03-17T03:49:07.000Z</td>\n",
       "      <td>Peter_kibiro</td>\n",
       "      <td>[peter_kibiro]</td>\n",
       "      <td>[]</td>\n",
       "      <td>peter_kibiro</td>\n",
       "      <td>0.0</td>\n",
       "      <td>0.0</td>\n",
       "      <td>0.0</td>\n",
       "    </tr>\n",
       "    <tr>\n",
       "      <th>4157</th>\n",
       "      <td>1372032135259906059</td>\n",
       "      <td>2021-03-17T03:49:07.000Z</td>\n",
       "      <td>Peter_kibiro</td>\n",
       "      <td>[peter_kibiro]</td>\n",
       "      <td>[]</td>\n",
       "      <td>peter_kibiro</td>\n",
       "      <td>0.0</td>\n",
       "      <td>0.0</td>\n",
       "      <td>0.0</td>\n",
       "    </tr>\n",
       "    <tr>\n",
       "      <th>4158</th>\n",
       "      <td>1245493115844263937</td>\n",
       "      <td>2020-04-01T23:28:06.000Z</td>\n",
       "      <td>Kelbac Omariba 𒊹︎︎︎</td>\n",
       "      <td>[kelbac, omariba, 𒊹]</td>\n",
       "      <td>[]</td>\n",
       "      <td>kelbac omariba 𒊹</td>\n",
       "      <td>0.0</td>\n",
       "      <td>0.0</td>\n",
       "      <td>0.0</td>\n",
       "    </tr>\n",
       "    <tr>\n",
       "      <th>4159</th>\n",
       "      <td>981797847216599040</td>\n",
       "      <td>2018-04-05T07:37:02.000Z</td>\n",
       "      <td>Style by Ray</td>\n",
       "      <td>[style, ray]</td>\n",
       "      <td>[by]</td>\n",
       "      <td>style ray</td>\n",
       "      <td>0.0</td>\n",
       "      <td>0.0</td>\n",
       "      <td>0.0</td>\n",
       "    </tr>\n",
       "    <tr>\n",
       "      <th>4160</th>\n",
       "      <td>981797847216599040</td>\n",
       "      <td>2018-04-05T07:37:02.000Z</td>\n",
       "      <td>Style by Ray</td>\n",
       "      <td>[style, ray]</td>\n",
       "      <td>[by]</td>\n",
       "      <td>style ray</td>\n",
       "      <td>0.0</td>\n",
       "      <td>0.0</td>\n",
       "      <td>0.0</td>\n",
       "    </tr>\n",
       "  </tbody>\n",
       "</table>\n",
       "</div>"
      ],
      "text/plain": [
       "                 Tweet Id               Screen Name                 Text  \\\n",
       "4156  1372032135259906059  2021-03-17T03:49:07.000Z         Peter_kibiro   \n",
       "4157  1372032135259906059  2021-03-17T03:49:07.000Z         Peter_kibiro   \n",
       "4158  1245493115844263937  2020-04-01T23:28:06.000Z  Kelbac Omariba 𒊹︎︎︎   \n",
       "4159   981797847216599040  2018-04-05T07:37:02.000Z         Style by Ray   \n",
       "4160   981797847216599040  2018-04-05T07:37:02.000Z         Style by Ray   \n",
       "\n",
       "                    Tweets stop_words       tweet_punct  tweets_sent_compound  \\\n",
       "4156        [peter_kibiro]         []      peter_kibiro                   0.0   \n",
       "4157        [peter_kibiro]         []      peter_kibiro                   0.0   \n",
       "4158  [kelbac, omariba, 𒊹]         []  kelbac omariba 𒊹                   0.0   \n",
       "4159          [style, ray]       [by]         style ray                   0.0   \n",
       "4160          [style, ray]       [by]         style ray                   0.0   \n",
       "\n",
       "      tweets_sent_pos  tweets_sent_neg  \n",
       "4156              0.0              0.0  \n",
       "4157              0.0              0.0  \n",
       "4158              0.0              0.0  \n",
       "4159              0.0              0.0  \n",
       "4160              0.0              0.0  "
      ]
     },
     "execution_count": 22,
     "metadata": {},
     "output_type": "execute_result"
    }
   ],
   "source": [
    "tweets_df.tail()"
   ]
  },
  {
   "cell_type": "code",
   "execution_count": 23,
   "id": "incorporated-samoa",
   "metadata": {
    "execution": {
     "iopub.execute_input": "2021-04-02T13:08:53.337656Z",
     "iopub.status.busy": "2021-04-02T13:08:53.336871Z",
     "iopub.status.idle": "2021-04-02T13:08:53.552938Z",
     "shell.execute_reply": "2021-04-02T13:08:53.553475Z"
    },
    "id": "ITvMhED5hfOX",
    "papermill": {
     "duration": 0.277518,
     "end_time": "2021-04-02T13:08:53.553651",
     "exception": false,
     "start_time": "2021-04-02T13:08:53.276133",
     "status": "completed"
    },
    "tags": []
   },
   "outputs": [],
   "source": [
    "wordlist = nltk.FreqDist(all_words)\n",
    "word_features = wordlist.keys()"
   ]
  },
  {
   "cell_type": "markdown",
   "id": "vulnerable-essex",
   "metadata": {
    "id": "v5I-3blcAS4a",
    "papermill": {
     "duration": 0.058539,
     "end_time": "2021-04-02T13:08:53.669221",
     "exception": false,
     "start_time": "2021-04-02T13:08:53.610682",
     "status": "completed"
    },
    "tags": []
   },
   "source": [
    "<h1>Vectorization</h1>"
   ]
  },
  {
   "cell_type": "code",
   "execution_count": 24,
   "id": "blond-essex",
   "metadata": {
    "execution": {
     "iopub.execute_input": "2021-04-02T13:08:53.786544Z",
     "iopub.status.busy": "2021-04-02T13:08:53.785887Z",
     "iopub.status.idle": "2021-04-02T13:08:53.796090Z",
     "shell.execute_reply": "2021-04-02T13:08:53.794936Z"
    },
    "id": "ARAuwQqXiFQG",
    "outputId": "586c2e9e-f159-40de-f5a4-6d1001f98d5f",
    "papermill": {
     "duration": 0.070747,
     "end_time": "2021-04-02T13:08:53.796296",
     "exception": false,
     "start_time": "2021-04-02T13:08:53.725549",
     "status": "completed"
    },
    "tags": []
   },
   "outputs": [
    {
     "data": {
      "text/plain": [
       "4161"
      ]
     },
     "execution_count": 24,
     "metadata": {},
     "output_type": "execute_result"
    }
   ],
   "source": [
    "from sklearn.feature_extraction.text import CountVectorizer\n",
    "cv = CountVectorizer()\n",
    "tweets_list = []\n",
    "for tweet in tweets_df[\"tweet_punct\"]:\n",
    "  \n",
    "  tweets_list.append(tweet)\n",
    "len(tweets_list)\n",
    "#tweets_df.shape\n"
   ]
  },
  {
   "cell_type": "code",
   "execution_count": 25,
   "id": "unable-working",
   "metadata": {
    "execution": {
     "iopub.execute_input": "2021-04-02T13:08:53.919819Z",
     "iopub.status.busy": "2021-04-02T13:08:53.918966Z",
     "iopub.status.idle": "2021-04-02T13:08:53.922959Z",
     "shell.execute_reply": "2021-04-02T13:08:53.922229Z"
    },
    "id": "dJLFW2SJ7GAY",
    "papermill": {
     "duration": 0.068309,
     "end_time": "2021-04-02T13:08:53.923118",
     "exception": false,
     "start_time": "2021-04-02T13:08:53.854809",
     "status": "completed"
    },
    "tags": []
   },
   "outputs": [],
   "source": [
    "X = tweets_df[\"tweet_punct\"]\n",
    "\n",
    "vec = TfidfVectorizer(min_df=5, max_df=0.95, sublinear_tf = True,use_idf = True,ngram_range=(1, 2))"
   ]
  },
  {
   "cell_type": "code",
   "execution_count": 26,
   "id": "advised-penny",
   "metadata": {
    "execution": {
     "iopub.execute_input": "2021-04-02T13:08:54.047681Z",
     "iopub.status.busy": "2021-04-02T13:08:54.046670Z",
     "iopub.status.idle": "2021-04-02T13:08:54.050632Z",
     "shell.execute_reply": "2021-04-02T13:08:54.051111Z"
    },
    "id": "4P8dn-kN2KhU",
    "outputId": "8b97ee9b-b539-4f2f-fcbe-6e16f67e4eac",
    "papermill": {
     "duration": 0.068437,
     "end_time": "2021-04-02T13:08:54.051290",
     "exception": false,
     "start_time": "2021-04-02T13:08:53.982853",
     "status": "completed"
    },
    "tags": []
   },
   "outputs": [
    {
     "data": {
      "text/plain": [
       "310671"
      ]
     },
     "execution_count": 26,
     "metadata": {},
     "output_type": "execute_result"
    }
   ],
   "source": [
    "len(all_words)"
   ]
  },
  {
   "cell_type": "markdown",
   "id": "engaging-scheduling",
   "metadata": {
    "id": "LCMpTn-FC5QK",
    "papermill": {
     "duration": 0.057408,
     "end_time": "2021-04-02T13:08:54.167026",
     "exception": false,
     "start_time": "2021-04-02T13:08:54.109618",
     "status": "completed"
    },
    "tags": []
   },
   "source": [
    "<p> If tweet is negative lable is 0 neutral 1  positive 2 </p>\n",
    "<p> This is because classifiers only take integers </p> "
   ]
  },
  {
   "cell_type": "code",
   "execution_count": 27,
   "id": "generic-pound",
   "metadata": {
    "execution": {
     "iopub.execute_input": "2021-04-02T13:08:54.289617Z",
     "iopub.status.busy": "2021-04-02T13:08:54.288528Z",
     "iopub.status.idle": "2021-04-02T13:08:54.321668Z",
     "shell.execute_reply": "2021-04-02T13:08:54.320959Z"
    },
    "id": "ud4R22rRcOvU",
    "outputId": "09ac0fde-3c24-48c0-9658-4af026e87c83",
    "papermill": {
     "duration": 0.094939,
     "end_time": "2021-04-02T13:08:54.321848",
     "exception": false,
     "start_time": "2021-04-02T13:08:54.226909",
     "status": "completed"
    },
    "tags": []
   },
   "outputs": [
    {
     "name": "stderr",
     "output_type": "stream",
     "text": [
      "/opt/conda/lib/python3.7/site-packages/ipykernel_launcher.py:8: SettingWithCopyWarning: \n",
      "A value is trying to be set on a copy of a slice from a DataFrame.\n",
      "Try using .loc[row_indexer,col_indexer] = value instead\n",
      "\n",
      "See the caveats in the documentation: https://pandas.pydata.org/pandas-docs/stable/user_guide/indexing.html#returning-a-view-versus-a-copy\n",
      "  \n"
     ]
    },
    {
     "data": {
      "text/html": [
       "<div>\n",
       "<style scoped>\n",
       "    .dataframe tbody tr th:only-of-type {\n",
       "        vertical-align: middle;\n",
       "    }\n",
       "\n",
       "    .dataframe tbody tr th {\n",
       "        vertical-align: top;\n",
       "    }\n",
       "\n",
       "    .dataframe thead th {\n",
       "        text-align: right;\n",
       "    }\n",
       "</style>\n",
       "<table border=\"1\" class=\"dataframe\">\n",
       "  <thead>\n",
       "    <tr style=\"text-align: right;\">\n",
       "      <th></th>\n",
       "      <th>Tweet Id</th>\n",
       "      <th>Screen Name</th>\n",
       "      <th>Text</th>\n",
       "      <th>Tweets</th>\n",
       "      <th>stop_words</th>\n",
       "      <th>tweet_punct</th>\n",
       "      <th>tweets_sent_compound</th>\n",
       "      <th>tweets_sent_pos</th>\n",
       "      <th>tweets_sent_neg</th>\n",
       "      <th>label</th>\n",
       "    </tr>\n",
       "  </thead>\n",
       "  <tbody>\n",
       "    <tr>\n",
       "      <th>0</th>\n",
       "      <td>1377230154108395526</td>\n",
       "      <td>Itsa_Kumquat</td>\n",
       "      <td>@Safaricom_Care I have done that many times an...</td>\n",
       "      <td>[safaricom_car, i, done, mani, time, still, ge...</td>\n",
       "      <td>[have, that, and, i, the]</td>\n",
       "      <td>safaricom_car i done mani time still get messag</td>\n",
       "      <td>0.0000</td>\n",
       "      <td>0.000</td>\n",
       "      <td>0.0</td>\n",
       "      <td>1</td>\n",
       "    </tr>\n",
       "    <tr>\n",
       "      <th>1</th>\n",
       "      <td>1377229963661819914</td>\n",
       "      <td>LeilaaAbubakar</td>\n",
       "      <td>RT @Elainesoya : @mwangideloh In Garissa behin...</td>\n",
       "      <td>[rt, elainesoya, mwangideloh, in, garissa, beh...</td>\n",
       "      <td>[]</td>\n",
       "      <td>rt elainesoya mwangideloh in garissa behind ji...</td>\n",
       "      <td>0.0000</td>\n",
       "      <td>0.000</td>\n",
       "      <td>0.0</td>\n",
       "      <td>1</td>\n",
       "    </tr>\n",
       "    <tr>\n",
       "      <th>2</th>\n",
       "      <td>1377229925032280064</td>\n",
       "      <td>layawayuno</td>\n",
       "      <td>RT @KUcoolkid : Are you in online business and...</td>\n",
       "      <td>[rt, kucoolkid, are, onlin, busi, keep, run, b...</td>\n",
       "      <td>[you, in, and, you, out, of, no, more, and]</td>\n",
       "      <td>rt kucoolkid are onlin busi keep run bundl wor...</td>\n",
       "      <td>0.0000</td>\n",
       "      <td>0.000</td>\n",
       "      <td>0.0</td>\n",
       "      <td>1</td>\n",
       "    </tr>\n",
       "    <tr>\n",
       "      <th>3</th>\n",
       "      <td>1377229854312169473</td>\n",
       "      <td>mutuahkiilu</td>\n",
       "      <td>RT @Liberal_KE : Enjoy YouTube music with safa...</td>\n",
       "      <td>[rt, liberal_k, enjoy, youtub, music, safarico...</td>\n",
       "      <td>[with, after]</td>\n",
       "      <td>rt liberal_k enjoy youtub music safaricom yout...</td>\n",
       "      <td>0.4939</td>\n",
       "      <td>0.211</td>\n",
       "      <td>0.0</td>\n",
       "      <td>2</td>\n",
       "    </tr>\n",
       "    <tr>\n",
       "      <th>4</th>\n",
       "      <td>1377229662917685251</td>\n",
       "      <td>DARSIL254</td>\n",
       "      <td>RT @DARSIL254 : Which Paybill are you using if...</td>\n",
       "      <td>[rt, darsil, which, paybil, use, buy, safarico...</td>\n",
       "      <td>[are, you, if, not, to]</td>\n",
       "      <td>rt darsil which paybil use buy safaricom airti...</td>\n",
       "      <td>0.0000</td>\n",
       "      <td>0.000</td>\n",
       "      <td>0.0</td>\n",
       "      <td>1</td>\n",
       "    </tr>\n",
       "  </tbody>\n",
       "</table>\n",
       "</div>"
      ],
      "text/plain": [
       "              Tweet Id     Screen Name  \\\n",
       "0  1377230154108395526    Itsa_Kumquat   \n",
       "1  1377229963661819914  LeilaaAbubakar   \n",
       "2  1377229925032280064      layawayuno   \n",
       "3  1377229854312169473     mutuahkiilu   \n",
       "4  1377229662917685251       DARSIL254   \n",
       "\n",
       "                                                Text  \\\n",
       "0  @Safaricom_Care I have done that many times an...   \n",
       "1  RT @Elainesoya : @mwangideloh In Garissa behin...   \n",
       "2  RT @KUcoolkid : Are you in online business and...   \n",
       "3  RT @Liberal_KE : Enjoy YouTube music with safa...   \n",
       "4  RT @DARSIL254 : Which Paybill are you using if...   \n",
       "\n",
       "                                              Tweets  \\\n",
       "0  [safaricom_car, i, done, mani, time, still, ge...   \n",
       "1  [rt, elainesoya, mwangideloh, in, garissa, beh...   \n",
       "2  [rt, kucoolkid, are, onlin, busi, keep, run, b...   \n",
       "3  [rt, liberal_k, enjoy, youtub, music, safarico...   \n",
       "4  [rt, darsil, which, paybil, use, buy, safarico...   \n",
       "\n",
       "                                    stop_words  \\\n",
       "0                    [have, that, and, i, the]   \n",
       "1                                           []   \n",
       "2  [you, in, and, you, out, of, no, more, and]   \n",
       "3                                [with, after]   \n",
       "4                      [are, you, if, not, to]   \n",
       "\n",
       "                                         tweet_punct  tweets_sent_compound  \\\n",
       "0    safaricom_car i done mani time still get messag                0.0000   \n",
       "1  rt elainesoya mwangideloh in garissa behind ji...                0.0000   \n",
       "2  rt kucoolkid are onlin busi keep run bundl wor...                0.0000   \n",
       "3  rt liberal_k enjoy youtub music safaricom yout...                0.4939   \n",
       "4  rt darsil which paybil use buy safaricom airti...                0.0000   \n",
       "\n",
       "   tweets_sent_pos  tweets_sent_neg  label  \n",
       "0            0.000              0.0      1  \n",
       "1            0.000              0.0      1  \n",
       "2            0.000              0.0      1  \n",
       "3            0.211              0.0      2  \n",
       "4            0.000              0.0      1  "
      ]
     },
     "execution_count": 27,
     "metadata": {},
     "output_type": "execute_result"
    }
   ],
   "source": [
    "def label_value(val):\n",
    "  if val < 0:\n",
    "    return 0\n",
    "  elif val == 0:\n",
    "    return 1\n",
    "  else:\n",
    "    return 2\n",
    "tweets_df[\"label\"] = tweets_df[\"tweets_sent_compound\"].apply(lambda x: label_value(x))\n",
    "tweets_df.head()"
   ]
  },
  {
   "cell_type": "code",
   "execution_count": 28,
   "id": "separated-evidence",
   "metadata": {
    "execution": {
     "iopub.execute_input": "2021-04-02T13:08:54.481436Z",
     "iopub.status.busy": "2021-04-02T13:08:54.444529Z",
     "iopub.status.idle": "2021-04-02T13:08:54.603351Z",
     "shell.execute_reply": "2021-04-02T13:08:54.602775Z"
    },
    "id": "swhwHlv2rBRb",
    "papermill": {
     "duration": 0.221542,
     "end_time": "2021-04-02T13:08:54.603513",
     "exception": false,
     "start_time": "2021-04-02T13:08:54.381971",
     "status": "completed"
    },
    "tags": []
   },
   "outputs": [],
   "source": [
    "from sklearn.feature_extraction.text import CountVectorizer\n",
    "\n",
    "cv = CountVectorizer(binary=True)\n",
    "cv.fit(tweets_list)\n",
    "X = cv.transform(tweets_list)\n",
    "y = tweets_df[\"label\"].values\n"
   ]
  },
  {
   "cell_type": "markdown",
   "id": "nominated-fleet",
   "metadata": {
    "id": "wYsSzYxQAmMp",
    "papermill": {
     "duration": 0.059227,
     "end_time": "2021-04-02T13:08:54.722448",
     "exception": false,
     "start_time": "2021-04-02T13:08:54.663221",
     "status": "completed"
    },
    "tags": []
   },
   "source": [
    "<h1>Classification model</h1>"
   ]
  },
  {
   "cell_type": "code",
   "execution_count": 29,
   "id": "third-december",
   "metadata": {
    "execution": {
     "iopub.execute_input": "2021-04-02T13:08:54.848051Z",
     "iopub.status.busy": "2021-04-02T13:08:54.847045Z",
     "iopub.status.idle": "2021-04-02T13:08:54.853824Z",
     "shell.execute_reply": "2021-04-02T13:08:54.853215Z"
    },
    "id": "wJ60PDO7AQPC",
    "papermill": {
     "duration": 0.07235,
     "end_time": "2021-04-02T13:08:54.853972",
     "exception": false,
     "start_time": "2021-04-02T13:08:54.781622",
     "status": "completed"
    },
    "tags": []
   },
   "outputs": [],
   "source": [
    "\n",
    "from sklearn.linear_model import LogisticRegression\n",
    "from sklearn.metrics import accuracy_score, classification_report, confusion_matrix\n",
    "from sklearn.model_selection import train_test_split\n",
    "X_train, X_val, y_train, y_val = train_test_split(\n",
    "    X, y, train_size = 0.2, random_state = 0\n",
    ")\n"
   ]
  },
  {
   "cell_type": "markdown",
   "id": "continuous-reserve",
   "metadata": {
    "id": "kpRYAkZxAwtD",
    "papermill": {
     "duration": 0.059822,
     "end_time": "2021-04-02T13:08:54.974593",
     "exception": false,
     "start_time": "2021-04-02T13:08:54.914771",
     "status": "completed"
    },
    "tags": []
   },
   "source": [
    "<h1>Logistic Regression</h1>"
   ]
  },
  {
   "cell_type": "code",
   "execution_count": 30,
   "id": "prompt-province",
   "metadata": {
    "execution": {
     "iopub.execute_input": "2021-04-02T13:08:55.099883Z",
     "iopub.status.busy": "2021-04-02T13:08:55.099126Z",
     "iopub.status.idle": "2021-04-02T13:08:55.498006Z",
     "shell.execute_reply": "2021-04-02T13:08:55.499001Z"
    },
    "id": "kh2b1t1KA2tc",
    "outputId": "e78b0020-6051-4793-fc38-7aa0597060bc",
    "papermill": {
     "duration": 0.464922,
     "end_time": "2021-04-02T13:08:55.499274",
     "exception": false,
     "start_time": "2021-04-02T13:08:55.034352",
     "status": "completed"
    },
    "tags": []
   },
   "outputs": [
    {
     "data": {
      "text/plain": [
       "LogisticRegression()"
      ]
     },
     "execution_count": 30,
     "metadata": {},
     "output_type": "execute_result"
    }
   ],
   "source": [
    "lr = LogisticRegression()\n",
    "lr.fit(X_train, y_train)"
   ]
  },
  {
   "cell_type": "code",
   "execution_count": 31,
   "id": "settled-applicant",
   "metadata": {
    "execution": {
     "iopub.execute_input": "2021-04-02T13:08:55.716853Z",
     "iopub.status.busy": "2021-04-02T13:08:55.715762Z",
     "iopub.status.idle": "2021-04-02T13:08:55.737426Z",
     "shell.execute_reply": "2021-04-02T13:08:55.738236Z"
    },
    "id": "0l1jMOEtDFV0",
    "outputId": "ab05cf9d-cfcb-439d-f678-e35da4bd0aec",
    "papermill": {
     "duration": 0.093108,
     "end_time": "2021-04-02T13:08:55.738476",
     "exception": false,
     "start_time": "2021-04-02T13:08:55.645368",
     "status": "completed"
    },
    "tags": []
   },
   "outputs": [
    {
     "name": "stdout",
     "output_type": "stream",
     "text": [
      "0.8789426254130369\n",
      "              precision    recall  f1-score   support\n",
      "\n",
      "           0       0.89      0.27      0.41       237\n",
      "           1       0.87      0.99      0.92      2238\n",
      "           2       0.92      0.75      0.83       854\n",
      "\n",
      "    accuracy                           0.88      3329\n",
      "   macro avg       0.89      0.67      0.72      3329\n",
      "weighted avg       0.88      0.88      0.86      3329\n",
      "\n",
      "[[  64  136   37]\n",
      " [   2 2218   18]\n",
      " [   6  204  644]]\n"
     ]
    }
   ],
   "source": [
    "pred = lr.predict(X_val)\n",
    "print(accuracy_score(y_val, pred))\n",
    "print(classification_report(y_val, pred))\n",
    "print(confusion_matrix(y_val, pred))"
   ]
  },
  {
   "cell_type": "markdown",
   "id": "collect-threshold",
   "metadata": {
    "id": "BPROrINeBFHj",
    "papermill": {
     "duration": 0.060704,
     "end_time": "2021-04-02T13:08:55.860909",
     "exception": false,
     "start_time": "2021-04-02T13:08:55.800205",
     "status": "completed"
    },
    "tags": []
   },
   "source": [
    "<h1>tf-idf vectorization</h1>"
   ]
  },
  {
   "cell_type": "code",
   "execution_count": 32,
   "id": "specific-aggregate",
   "metadata": {
    "execution": {
     "iopub.execute_input": "2021-04-02T13:08:56.004513Z",
     "iopub.status.busy": "2021-04-02T13:08:55.999040Z",
     "iopub.status.idle": "2021-04-02T13:08:56.149647Z",
     "shell.execute_reply": "2021-04-02T13:08:56.148942Z"
    },
    "id": "R9YWCVLKiKW3",
    "papermill": {
     "duration": 0.227167,
     "end_time": "2021-04-02T13:08:56.149818",
     "exception": false,
     "start_time": "2021-04-02T13:08:55.922651",
     "status": "completed"
    },
    "tags": []
   },
   "outputs": [],
   "source": [
    "tfidf_vectorizer = TfidfVectorizer()\n",
    "tfidf_vectorizer.fit(tweets_list)\n",
    "X = tfidf_vectorizer.transform(tweets_list)\n",
    "y = tweets_df[\"label\"].values\n",
    "\n",
    "X_train, X_val, y_train, y_val = train_test_split(\n",
    "    X, y, train_size = 0.2, random_state = 0\n",
    ")"
   ]
  },
  {
   "cell_type": "code",
   "execution_count": 33,
   "id": "brilliant-estate",
   "metadata": {
    "execution": {
     "iopub.execute_input": "2021-04-02T13:08:56.278358Z",
     "iopub.status.busy": "2021-04-02T13:08:56.276910Z",
     "iopub.status.idle": "2021-04-02T13:08:56.642110Z",
     "shell.execute_reply": "2021-04-02T13:08:56.640832Z"
    },
    "id": "P5qEx4kIxH5f",
    "outputId": "a92a028c-8485-4945-9b16-6abddc8094a9",
    "papermill": {
     "duration": 0.430829,
     "end_time": "2021-04-02T13:08:56.642407",
     "exception": false,
     "start_time": "2021-04-02T13:08:56.211578",
     "status": "completed"
    },
    "tags": []
   },
   "outputs": [
    {
     "data": {
      "text/plain": [
       "LogisticRegression()"
      ]
     },
     "execution_count": 33,
     "metadata": {},
     "output_type": "execute_result"
    }
   ],
   "source": [
    "lr = LogisticRegression()\n",
    "lr.fit(X_train, y_train)"
   ]
  },
  {
   "cell_type": "code",
   "execution_count": 34,
   "id": "laden-berlin",
   "metadata": {
    "execution": {
     "iopub.execute_input": "2021-04-02T13:08:56.847275Z",
     "iopub.status.busy": "2021-04-02T13:08:56.846451Z",
     "iopub.status.idle": "2021-04-02T13:08:56.869271Z",
     "shell.execute_reply": "2021-04-02T13:08:56.869838Z"
    },
    "id": "RtQgrlLxxi9K",
    "outputId": "5242cb8b-4e21-487a-da93-1fa15239f7fc",
    "papermill": {
     "duration": 0.095414,
     "end_time": "2021-04-02T13:08:56.870026",
     "exception": false,
     "start_time": "2021-04-02T13:08:56.774612",
     "status": "completed"
    },
    "tags": []
   },
   "outputs": [
    {
     "name": "stdout",
     "output_type": "stream",
     "text": [
      "0.8350856112946831\n",
      "              precision    recall  f1-score   support\n",
      "\n",
      "           0       1.00      0.16      0.27       237\n",
      "           1       0.81      1.00      0.89      2238\n",
      "           2       0.98      0.60      0.74       854\n",
      "\n",
      "    accuracy                           0.84      3329\n",
      "   macro avg       0.93      0.58      0.63      3329\n",
      "weighted avg       0.86      0.84      0.81      3329\n",
      "\n",
      "[[  37  195    5]\n",
      " [   0 2234    4]\n",
      " [   0  345  509]]\n"
     ]
    }
   ],
   "source": [
    "pred = lr.predict(X_val)\n",
    "print(accuracy_score(y_val, pred))\n",
    "print(classification_report(y_val, pred))\n",
    "print(confusion_matrix(y_val, pred))"
   ]
  },
  {
   "cell_type": "markdown",
   "id": "according-spray",
   "metadata": {
    "id": "phPk1NdJBPIe",
    "papermill": {
     "duration": 0.062745,
     "end_time": "2021-04-02T13:08:56.997019",
     "exception": false,
     "start_time": "2021-04-02T13:08:56.934274",
     "status": "completed"
    },
    "tags": []
   },
   "source": [
    "<h1>Support Vector Machine</h1>"
   ]
  },
  {
   "cell_type": "code",
   "execution_count": 35,
   "id": "suited-colorado",
   "metadata": {
    "execution": {
     "iopub.execute_input": "2021-04-02T13:08:57.169180Z",
     "iopub.status.busy": "2021-04-02T13:08:57.153426Z",
     "iopub.status.idle": "2021-04-02T13:08:57.795895Z",
     "shell.execute_reply": "2021-04-02T13:08:57.795182Z"
    },
    "id": "a0ZEh7m_xvh5",
    "outputId": "15b83cb3-d6f8-4245-9f7b-7812eea8f89e",
    "papermill": {
     "duration": 0.735529,
     "end_time": "2021-04-02T13:08:57.796049",
     "exception": false,
     "start_time": "2021-04-02T13:08:57.060520",
     "status": "completed"
    },
    "tags": []
   },
   "outputs": [
    {
     "data": {
      "text/plain": [
       "LinearSVC()"
      ]
     },
     "execution_count": 35,
     "metadata": {},
     "output_type": "execute_result"
    }
   ],
   "source": [
    "from sklearn.svm import LinearSVC\n",
    "ngram_vectorizer = CountVectorizer(binary=True, ngram_range=(1, 3))\n",
    "ngram_vectorizer.fit(tweets_list)\n",
    "X = ngram_vectorizer.transform(tweets_list)\n",
    "y = tweets_df[\"label\"].values\n",
    "X_train, X_val, y_train, y_val = train_test_split(\n",
    "    X, y, train_size = 0.2, random_state = 0\n",
    ")\n",
    "svm = LinearSVC()\n",
    "svm.fit(X_train, y_train)"
   ]
  },
  {
   "cell_type": "code",
   "execution_count": 36,
   "id": "engaging-repository",
   "metadata": {
    "execution": {
     "iopub.execute_input": "2021-04-02T13:08:57.967738Z",
     "iopub.status.busy": "2021-04-02T13:08:57.966656Z",
     "iopub.status.idle": "2021-04-02T13:08:57.996153Z",
     "shell.execute_reply": "2021-04-02T13:08:57.995192Z"
    },
    "id": "9J63tDTC8CQt",
    "outputId": "60ce93aa-b210-41dc-d4ea-6cf86fb7c5a6",
    "papermill": {
     "duration": 0.118408,
     "end_time": "2021-04-02T13:08:57.996366",
     "exception": false,
     "start_time": "2021-04-02T13:08:57.877958",
     "status": "completed"
    },
    "tags": []
   },
   "outputs": [
    {
     "name": "stdout",
     "output_type": "stream",
     "text": [
      "0.8648242715530189\n",
      "              precision    recall  f1-score   support\n",
      "\n",
      "           0       0.97      0.24      0.38       237\n",
      "           1       0.84      1.00      0.91      2238\n",
      "           2       0.96      0.69      0.81       854\n",
      "\n",
      "    accuracy                           0.86      3329\n",
      "   macro avg       0.92      0.64      0.70      3329\n",
      "weighted avg       0.88      0.86      0.85      3329\n",
      "\n",
      "[[  56  163   18]\n",
      " [   1 2232    5]\n",
      " [   1  262  591]]\n"
     ]
    }
   ],
   "source": [
    "pred = svm.predict(X_val)\n",
    "print(accuracy_score(y_val, pred))\n",
    "print(classification_report(y_val, pred))\n",
    "print(confusion_matrix(y_val, pred))"
   ]
  },
  {
   "cell_type": "markdown",
   "id": "adapted-editor",
   "metadata": {
    "id": "qqeBQGjwBvqL",
    "papermill": {
     "duration": 0.063098,
     "end_time": "2021-04-02T13:08:58.123464",
     "exception": false,
     "start_time": "2021-04-02T13:08:58.060366",
     "status": "completed"
    },
    "tags": []
   },
   "source": [
    "<h1>Naïve Bayes classifier</h1>"
   ]
  },
  {
   "cell_type": "code",
   "execution_count": 37,
   "id": "technological-blocking",
   "metadata": {
    "execution": {
     "iopub.execute_input": "2021-04-02T13:08:58.259322Z",
     "iopub.status.busy": "2021-04-02T13:08:58.258493Z",
     "iopub.status.idle": "2021-04-02T13:08:58.287806Z",
     "shell.execute_reply": "2021-04-02T13:08:58.288304Z"
    },
    "id": "nhe0haIV8bVw",
    "outputId": "64695f0a-c180-4abc-ef15-cc62819d77c6",
    "papermill": {
     "duration": 0.100952,
     "end_time": "2021-04-02T13:08:58.288500",
     "exception": false,
     "start_time": "2021-04-02T13:08:58.187548",
     "status": "completed"
    },
    "tags": []
   },
   "outputs": [
    {
     "name": "stdout",
     "output_type": "stream",
     "text": [
      "0.8753379393211175\n",
      "              precision    recall  f1-score   support\n",
      "\n",
      "           0       0.46      0.72      0.56       237\n",
      "           1       0.95      0.93      0.94      2238\n",
      "           2       0.87      0.78      0.82       854\n",
      "\n",
      "    accuracy                           0.88      3329\n",
      "   macro avg       0.76      0.81      0.77      3329\n",
      "weighted avg       0.89      0.88      0.88      3329\n",
      "\n",
      "[[ 170   29   38]\n",
      " [  96 2081   61]\n",
      " [ 102   89  663]]\n"
     ]
    }
   ],
   "source": [
    "from sklearn.naive_bayes import MultinomialNB\n",
    "MNB = MultinomialNB()\n",
    "MNB.fit(X_train, y_train)\n",
    "pred = MNB.predict(X_val)\n",
    "print(accuracy_score(y_val, pred))\n",
    "print(classification_report(y_val, pred))\n",
    "print(confusion_matrix(y_val, pred))"
   ]
  }
 ],
 "metadata": {
  "kernelspec": {
   "display_name": "Python 3 (ipykernel)",
   "language": "python",
   "name": "python3"
  },
  "language_info": {
   "codemirror_mode": {
    "name": "ipython",
    "version": 3
   },
   "file_extension": ".py",
   "mimetype": "text/x-python",
   "name": "python",
   "nbconvert_exporter": "python",
   "pygments_lexer": "ipython3",
   "version": "3.10.12"
  },
  "papermill": {
   "default_parameters": {},
   "duration": 42.861411,
   "end_time": "2021-04-02T13:08:59.164939",
   "environment_variables": {},
   "exception": null,
   "input_path": "__notebook__.ipynb",
   "output_path": "__notebook__.ipynb",
   "parameters": {},
   "start_time": "2021-04-02T13:08:16.303528",
   "version": "2.3.2"
  }
 },
 "nbformat": 4,
 "nbformat_minor": 5
}
